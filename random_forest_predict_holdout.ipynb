{
 "cells": [
  {
   "cell_type": "code",
   "execution_count": 1,
   "metadata": {},
   "outputs": [],
   "source": [
    "import pandas as pd\n",
    "from sklearn import metrics\n",
    "\n",
    "from joblib import dump, load"
   ]
  },
  {
   "cell_type": "markdown",
   "metadata": {},
   "source": [
    "Load Saved Model"
   ]
  },
  {
   "cell_type": "code",
   "execution_count": 2,
   "metadata": {},
   "outputs": [],
   "source": [
    "clf = load('models/sklearn/rf.joblib') "
   ]
  },
  {
   "cell_type": "markdown",
   "metadata": {},
   "source": [
    "Load holdout dataset"
   ]
  },
  {
   "cell_type": "code",
   "execution_count": 3,
   "metadata": {},
   "outputs": [],
   "source": [
    "test = pd.read_csv(\"data/test.csv\")\n",
    "holdout = pd.read_csv(\"data/external_Microsoft_holdoutDataset.csv\")"
   ]
  },
  {
   "cell_type": "code",
   "execution_count": 4,
   "metadata": {},
   "outputs": [
    {
     "data": {
      "text/html": [
       "<div>\n",
       "<style scoped>\n",
       "    .dataframe tbody tr th:only-of-type {\n",
       "        vertical-align: middle;\n",
       "    }\n",
       "\n",
       "    .dataframe tbody tr th {\n",
       "        vertical-align: top;\n",
       "    }\n",
       "\n",
       "    .dataframe thead th {\n",
       "        text-align: right;\n",
       "    }\n",
       "</style>\n",
       "<table border=\"1\" class=\"dataframe\">\n",
       "  <thead>\n",
       "    <tr style=\"text-align: right;\">\n",
       "      <th></th>\n",
       "      <th>Access Level</th>\n",
       "      <th>BD877Training Completed</th>\n",
       "      <th>Department Code</th>\n",
       "      <th>Email Domain</th>\n",
       "      <th>EmployeeTargetedOverPastYear</th>\n",
       "      <th>Gender (code)</th>\n",
       "      <th>Social Media Activity (Scaled)</th>\n",
       "      <th>behaviorPattern2</th>\n",
       "      <th>fraudTraining Completed</th>\n",
       "      <th>peerUsageMetric6</th>\n",
       "      <th>usageMetric2</th>\n",
       "      <th>usageMetric5</th>\n",
       "    </tr>\n",
       "  </thead>\n",
       "  <tbody>\n",
       "    <tr>\n",
       "      <th>0</th>\n",
       "      <td>3</td>\n",
       "      <td>0.0</td>\n",
       "      <td>39998</td>\n",
       "      <td>si.edu</td>\n",
       "      <td>1.0</td>\n",
       "      <td>0</td>\n",
       "      <td>0.0</td>\n",
       "      <td>0</td>\n",
       "      <td>0</td>\n",
       "      <td>3</td>\n",
       "      <td>3</td>\n",
       "      <td>1</td>\n",
       "    </tr>\n",
       "    <tr>\n",
       "      <th>1</th>\n",
       "      <td>2</td>\n",
       "      <td>0.0</td>\n",
       "      <td>10000</td>\n",
       "      <td>slideshare.net</td>\n",
       "      <td>1.0</td>\n",
       "      <td>0</td>\n",
       "      <td>0.0</td>\n",
       "      <td>1</td>\n",
       "      <td>0</td>\n",
       "      <td>6</td>\n",
       "      <td>1</td>\n",
       "      <td>5</td>\n",
       "    </tr>\n",
       "    <tr>\n",
       "      <th>2</th>\n",
       "      <td>4</td>\n",
       "      <td>0.0</td>\n",
       "      <td>54997</td>\n",
       "      <td>nsw.gov.au</td>\n",
       "      <td>1.0</td>\n",
       "      <td>1</td>\n",
       "      <td>3.0</td>\n",
       "      <td>2</td>\n",
       "      <td>0</td>\n",
       "      <td>0</td>\n",
       "      <td>2</td>\n",
       "      <td>6</td>\n",
       "    </tr>\n",
       "    <tr>\n",
       "      <th>3</th>\n",
       "      <td>5</td>\n",
       "      <td>0.0</td>\n",
       "      <td>24999</td>\n",
       "      <td>ox.ac.uk</td>\n",
       "      <td>1.0</td>\n",
       "      <td>0</td>\n",
       "      <td>1.0</td>\n",
       "      <td>0</td>\n",
       "      <td>0</td>\n",
       "      <td>3</td>\n",
       "      <td>0</td>\n",
       "      <td>5</td>\n",
       "    </tr>\n",
       "    <tr>\n",
       "      <th>4</th>\n",
       "      <td>1</td>\n",
       "      <td>1.0</td>\n",
       "      <td>39998</td>\n",
       "      <td>si.edu</td>\n",
       "      <td>1.0</td>\n",
       "      <td>1</td>\n",
       "      <td>0.0</td>\n",
       "      <td>1</td>\n",
       "      <td>0</td>\n",
       "      <td>3</td>\n",
       "      <td>2</td>\n",
       "      <td>3</td>\n",
       "    </tr>\n",
       "  </tbody>\n",
       "</table>\n",
       "</div>"
      ],
      "text/plain": [
       "   Access Level  BD877Training Completed  Department Code    Email Domain  \\\n",
       "0             3                      0.0            39998          si.edu   \n",
       "1             2                      0.0            10000  slideshare.net   \n",
       "2             4                      0.0            54997      nsw.gov.au   \n",
       "3             5                      0.0            24999        ox.ac.uk   \n",
       "4             1                      1.0            39998          si.edu   \n",
       "\n",
       "   EmployeeTargetedOverPastYear  Gender (code)  \\\n",
       "0                           1.0              0   \n",
       "1                           1.0              0   \n",
       "2                           1.0              1   \n",
       "3                           1.0              0   \n",
       "4                           1.0              1   \n",
       "\n",
       "   Social Media Activity (Scaled)  behaviorPattern2  fraudTraining Completed  \\\n",
       "0                             0.0                 0                        0   \n",
       "1                             0.0                 1                        0   \n",
       "2                             3.0                 2                        0   \n",
       "3                             1.0                 0                        0   \n",
       "4                             0.0                 1                        0   \n",
       "\n",
       "   peerUsageMetric6  usageMetric2  usageMetric5  \n",
       "0                 3             3             1  \n",
       "1                 6             1             5  \n",
       "2                 0             2             6  \n",
       "3                 3             0             5  \n",
       "4                 3             2             3  "
      ]
     },
     "execution_count": 4,
     "metadata": {},
     "output_type": "execute_result"
    }
   ],
   "source": [
    "test.head()"
   ]
  },
  {
   "cell_type": "code",
   "execution_count": 5,
   "metadata": {},
   "outputs": [
    {
     "data": {
      "text/html": [
       "<div>\n",
       "<style scoped>\n",
       "    .dataframe tbody tr th:only-of-type {\n",
       "        vertical-align: middle;\n",
       "    }\n",
       "\n",
       "    .dataframe tbody tr th {\n",
       "        vertical-align: top;\n",
       "    }\n",
       "\n",
       "    .dataframe thead th {\n",
       "        text-align: right;\n",
       "    }\n",
       "</style>\n",
       "<table border=\"1\" class=\"dataframe\">\n",
       "  <thead>\n",
       "    <tr style=\"text-align: right;\">\n",
       "      <th></th>\n",
       "      <th>EmployeeTargetedOverPastYear</th>\n",
       "      <th>Access Level</th>\n",
       "      <th>behaviorPattern2</th>\n",
       "      <th>peerUsageMetric6</th>\n",
       "      <th>usageMetric2</th>\n",
       "      <th>usageMetric5</th>\n",
       "      <th>Social Media Activity (Scaled)</th>\n",
       "      <th>BD877Training Completed</th>\n",
       "      <th>Department Code</th>\n",
       "      <th>Email Domain</th>\n",
       "      <th>fraudTraining Completed</th>\n",
       "      <th>Gender (code)</th>\n",
       "    </tr>\n",
       "  </thead>\n",
       "  <tbody>\n",
       "    <tr>\n",
       "      <th>0</th>\n",
       "      <td>1.0</td>\n",
       "      <td>2</td>\n",
       "      <td>1</td>\n",
       "      <td>6</td>\n",
       "      <td>1</td>\n",
       "      <td>5</td>\n",
       "      <td>0.0</td>\n",
       "      <td>0.0</td>\n",
       "      <td>10000</td>\n",
       "      <td>slideshare.net</td>\n",
       "      <td>0</td>\n",
       "      <td>0</td>\n",
       "    </tr>\n",
       "    <tr>\n",
       "      <th>1</th>\n",
       "      <td>1.0</td>\n",
       "      <td>4</td>\n",
       "      <td>2</td>\n",
       "      <td>0</td>\n",
       "      <td>2</td>\n",
       "      <td>6</td>\n",
       "      <td>3.0</td>\n",
       "      <td>0.0</td>\n",
       "      <td>54997</td>\n",
       "      <td>nsw.gov.au</td>\n",
       "      <td>0</td>\n",
       "      <td>1</td>\n",
       "    </tr>\n",
       "    <tr>\n",
       "      <th>2</th>\n",
       "      <td>1.0</td>\n",
       "      <td>1</td>\n",
       "      <td>1</td>\n",
       "      <td>3</td>\n",
       "      <td>2</td>\n",
       "      <td>3</td>\n",
       "      <td>0.0</td>\n",
       "      <td>1.0</td>\n",
       "      <td>39998</td>\n",
       "      <td>si.edu</td>\n",
       "      <td>0</td>\n",
       "      <td>1</td>\n",
       "    </tr>\n",
       "    <tr>\n",
       "      <th>3</th>\n",
       "      <td>1.0</td>\n",
       "      <td>4</td>\n",
       "      <td>1</td>\n",
       "      <td>2</td>\n",
       "      <td>1</td>\n",
       "      <td>0</td>\n",
       "      <td>0.0</td>\n",
       "      <td>0.0</td>\n",
       "      <td>69996</td>\n",
       "      <td>ehow.com</td>\n",
       "      <td>1</td>\n",
       "      <td>1</td>\n",
       "    </tr>\n",
       "    <tr>\n",
       "      <th>4</th>\n",
       "      <td>1.0</td>\n",
       "      <td>1</td>\n",
       "      <td>0</td>\n",
       "      <td>4</td>\n",
       "      <td>0</td>\n",
       "      <td>0</td>\n",
       "      <td>0.0</td>\n",
       "      <td>0.0</td>\n",
       "      <td>10000</td>\n",
       "      <td>slideshare.net</td>\n",
       "      <td>0</td>\n",
       "      <td>1</td>\n",
       "    </tr>\n",
       "  </tbody>\n",
       "</table>\n",
       "</div>"
      ],
      "text/plain": [
       "   EmployeeTargetedOverPastYear  Access Level  behaviorPattern2  \\\n",
       "0                           1.0             2                 1   \n",
       "1                           1.0             4                 2   \n",
       "2                           1.0             1                 1   \n",
       "3                           1.0             4                 1   \n",
       "4                           1.0             1                 0   \n",
       "\n",
       "   peerUsageMetric6  usageMetric2  usageMetric5  \\\n",
       "0                 6             1             5   \n",
       "1                 0             2             6   \n",
       "2                 3             2             3   \n",
       "3                 2             1             0   \n",
       "4                 4             0             0   \n",
       "\n",
       "   Social Media Activity (Scaled)  BD877Training Completed  Department Code  \\\n",
       "0                             0.0                      0.0            10000   \n",
       "1                             3.0                      0.0            54997   \n",
       "2                             0.0                      1.0            39998   \n",
       "3                             0.0                      0.0            69996   \n",
       "4                             0.0                      0.0            10000   \n",
       "\n",
       "     Email Domain  fraudTraining Completed  Gender (code)  \n",
       "0  slideshare.net                        0              0  \n",
       "1      nsw.gov.au                        0              1  \n",
       "2          si.edu                        0              1  \n",
       "3        ehow.com                        1              1  \n",
       "4  slideshare.net                        0              1  "
      ]
     },
     "execution_count": 5,
     "metadata": {},
     "output_type": "execute_result"
    }
   ],
   "source": [
    "holdout.head()"
   ]
  },
  {
   "cell_type": "code",
   "execution_count": 6,
   "metadata": {},
   "outputs": [],
   "source": [
    "# Align holdout dataset columns with test dataset columns\n",
    "holdout = holdout[test.columns]"
   ]
  },
  {
   "cell_type": "markdown",
   "metadata": {},
   "source": [
    "Predict on holdout dataset"
   ]
  },
  {
   "cell_type": "code",
   "execution_count": 7,
   "metadata": {},
   "outputs": [],
   "source": [
    "target_col = \"EmployeeTargetedOverPastYear\"\n",
    "\n",
    "X_holdout = holdout.drop(target_col, axis=1)\n",
    "y_holdout = holdout[[target_col]]"
   ]
  },
  {
   "cell_type": "code",
   "execution_count": 8,
   "metadata": {},
   "outputs": [],
   "source": [
    "y_holdout_pred = clf.predict(X_holdout)"
   ]
  },
  {
   "cell_type": "markdown",
   "metadata": {},
   "source": [
    "### Evaluation over testing set"
   ]
  },
  {
   "cell_type": "markdown",
   "metadata": {},
   "source": [
    "Let's estimate, how accurately the classifier or model can predict on new data.\n",
    "\n",
    "Accuracy can be computed by comparing actual test set values and predicted values."
   ]
  },
  {
   "cell_type": "code",
   "execution_count": 9,
   "metadata": {
    "scrolled": true
   },
   "outputs": [
    {
     "data": {
      "text/plain": [
       "array([[ 295,   87],\n",
       "       [  29, 1038]])"
      ]
     },
     "execution_count": 9,
     "metadata": {},
     "output_type": "execute_result"
    }
   ],
   "source": [
    "metrics.confusion_matrix(y_holdout, y_holdout_pred)"
   ]
  },
  {
   "cell_type": "code",
   "execution_count": 10,
   "metadata": {},
   "outputs": [
    {
     "data": {
      "text/plain": [
       "<sklearn.metrics._plot.confusion_matrix.ConfusionMatrixDisplay at 0x159b8eeb0>"
      ]
     },
     "execution_count": 10,
     "metadata": {},
     "output_type": "execute_result"
    },
    {
     "data": {
      "image/png": "[encoded data removed]",
      "text/plain": [
       "<Figure size 432x288 with 2 Axes>"
      ]
     },
     "metadata": {
      "needs_background": "light"
     },
     "output_type": "display_data"
    }
   ],
   "source": [
    "metrics.plot_confusion_matrix(clf, X_holdout, y_holdout)"
   ]
  },
  {
   "cell_type": "code",
   "execution_count": 11,
   "metadata": {
    "scrolled": true
   },
   "outputs": [
    {
     "name": "stdout",
     "output_type": "stream",
     "text": [
      "Accuracy: 0.9199447895100069\n",
      "Recall: 0.9728209934395501\n",
      "Precison: 0.9226666666666666\n",
      "F1 Score: 0.9470802919708028\n"
     ]
    }
   ],
   "source": [
    "# Model Accuracy, how often is the classifier correct?\n",
    "print(\"Accuracy:\",metrics.accuracy_score(y_holdout, y_holdout_pred))\n",
    "# Recall\n",
    "print(\"Recall:\",metrics.recall_score(y_holdout, y_holdout_pred))\n",
    "# Precision\n",
    "print(\"Precison:\",metrics.precision_score(y_holdout, y_holdout_pred))\n",
    "# F1score\n",
    "print(\"F1 Score:\",metrics.f1_score(y_holdout, y_holdout_pred))"
   ]
  },
  {
   "cell_type": "markdown",
   "metadata": {},
   "source": [
    "## Saving Predictions"
   ]
  },
  {
   "cell_type": "code",
   "execution_count": 12,
   "metadata": {},
   "outputs": [],
   "source": [
    "holdout[\"prediction\"] = y_holdout_pred\n",
    "holdout.to_csv(\"results/holdout_predictions_rf.csv\", index=False)"
   ]
  }
 ],
 "metadata": {
  "kernelspec": {
   "display_name": "pa_venv",
   "language": "python",
   "name": "pa_venv"
  },
  "language_info": {
   "codemirror_mode": {
    "name": "ipython",
    "version": 3
   },
   "file_extension": ".py",
   "mimetype": "text/x-python",
   "name": "python",
   "nbconvert_exporter": "python",
   "pygments_lexer": "ipython3",
   "version": "3.8.6"
  }
 },
 "nbformat": 4,
 "nbformat_minor": 4
}
