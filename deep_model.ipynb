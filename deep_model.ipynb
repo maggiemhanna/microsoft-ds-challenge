{
 "cells": [
  {
   "cell_type": "markdown",
   "metadata": {},
   "source": [
    "# Why Tensorflow\n",
    "\n",
    "Here are my main reasons for opting for the use of tensorflow as possible for any machine learning model developement.\n",
    "\n",
    "* You can design custom models that you would build from layers using the TF layers API, TF losses APIs and so on. If you're building something fairly standard, TensorFlow has a set of pre-made estimators that you can try out. Tensorflow 2 works well with keras models.\n",
    "\n",
    "* As data and training time grows, your needs will increase. Checkpoints allow you to pause and resume training when needed, continue on training if the preset number of epochs happen to be insufficient.\n",
    "\n",
    "* Your data doesn’t longer fit in memory? Tensorflow is designed with a dataset API that handles out of memory data sets. Tfrecords format also present an efficient format that works well with TensorFlow.\n",
    "\n",
    "* You cannot train a large network over a large period of time without seeing how it’s doing. You can surface your defined key metrics during training that you can visualize in Tensorboard on both your training and validation set. Tensorboard is TensorFlow's visualization toolkit. TensorBoard provides the visualization and tooling needed for machine learning experimentation. TensorFlow metrics that are visualized in TensorBoard are computed during a training run and show how a metric changes against global training steps (across all training workers). This can answer questions such as “Is my model converging?”.\n",
    "\n",
    "* Models train for hours, days, weeks. Optimizing a model that takes multiple weeks of training, is not workable. You have to distribute it on a cluster to make it faster. Going from one machine to many, might sound complicated, but with Tensorflow, you get distribution out of the box. TF abstracts away the details of distributed execution for training and evaluation, while also supporting consistent behavior across local/non-distributed and distributed configurations. There are many types of distribution architectures. Algorithms, like grading descent optimization, are not so easy, In the parameter server architecture, we'll need help from so-called parameter server to assist a pool of training workers. This parameter server forms a type of shared memory, and let each trainer learn from all the others."
   ]
  },
  {
   "cell_type": "markdown",
   "metadata": {},
   "source": [
    "# Steps\n",
    "\n",
    "## Data Reading using tf.data. \n",
    "\n",
    "tf.data is a highly scalable toolkit for building data pipelines, and provides a few functions for dealing loading CSV files. We can use any of the following methods to read out-of-memory data:\t\n",
    "*\ttf.data.experimental.make_csv_dataset\n",
    "*\ttf.data.experimental.CsvDataset\n",
    "*\ttf.data.TextLineDataset and tf.io.decode_csv\n",
    "*\tWe should avoid using tf.data.Dataset.from_tensor_slices since this method reads data from in-memory dictionnaries.\n",
    "\n",
    "We need to split the training dataset into training, validation, and testing to be able to perform the hyperparameter tuning and evaluate model on unseen data. \n",
    "\n",
    "With tf.data, we can easily use:\n",
    "\n",
    "* Shuffling\n",
    "* Batching\n",
    "\n",
    "## Feature Engineering\n",
    "\n",
    "We can use either tensorflow feature_columns or keras preprocessing layers. Here are some ideas:\n",
    "\n",
    "* Normalization of numerical columns\n",
    "* One hot encoding of categorical columns\n",
    "* Some feature engineering strategies to test:\n",
    "    * Bucketizing numerical columns\n",
    "    * Hashing\n",
    "    * Embedding sparse categorical columns if any.\n",
    "    * Shared embeddings\n",
    "    * Cross features\n",
    "    \n",
    "## Baseline Modeling\n",
    "\n",
    "We can use either the Keras sequential API or the Keras function API.\n",
    "\n",
    "We can try implementing the following scenarios to see if it can improve performance:\n",
    "* L2 regularization\n",
    "* Dropout regularization\n",
    "* Batch Normalization\n",
    "\n",
    "Callbacks we can implement:\n",
    "* Early Stopping\n",
    "* TensorBoard (to view model logs on tensorboard)\n",
    "\t\n",
    "\n",
    "## Model Variance & Bias Analysis\n",
    "\n",
    "We Plot the training and validation loss of your model as a function of the number of epochs to make sure that model is converging in the correct manner. We can also plot the learning curve to diagnose Variance & Bias and propose a way to solve high variance or high bias if it’s being detected.\n",
    "\n",
    "\t\n",
    "## Hyperparameter tuning \n",
    "\n",
    "We can tune some of these hyperparameters instead of trying and guess the best options. Some of the hyperparameters we can tune:\n",
    "\n",
    "* Number of nodes in hidden layers.\n",
    "* Regularization parameter or dropout probability.\n",
    "* Learning rate.\n",
    "* Batch size.\n",
    "* Optimizer."
   ]
  },
  {
   "cell_type": "markdown",
   "metadata": {},
   "source": [
    "# 0. Loading Libraries"
   ]
  },
  {
   "cell_type": "code",
   "execution_count": 1,
   "metadata": {},
   "outputs": [],
   "source": [
    "#You need to install tensorflow_docs before\n",
    "#!pip3 install -q git+https://github.com/tensorflow/docs"
   ]
  },
  {
   "cell_type": "code",
   "execution_count": 2,
   "metadata": {},
   "outputs": [],
   "source": [
    "import tensorflow as tf\n",
    "import tensorflow_addons as tfa\n",
    "import tensorflow_docs as tfdocs\n",
    "import tensorflow_docs.modeling\n",
    "import tensorflow_docs.plots\n",
    "\n",
    "import numpy as np\n",
    "import pandas as pd\n",
    "\n",
    "import pathlib\n",
    "import shutil\n",
    "\n",
    "import os\n",
    "import pkg_resources\n",
    "import datetime\n",
    "\n",
    "import IPython\n",
    "\n",
    "from matplotlib import pyplot as plt\n",
    "from sklearn.model_selection import train_test_split\n",
    "\n",
    "tf.compat.v1.logging.set_verbosity(tf.compat.v1.logging.ERROR)"
   ]
  },
  {
   "cell_type": "code",
   "execution_count": 3,
   "metadata": {},
   "outputs": [
    {
     "name": "stdout",
     "output_type": "stream",
     "text": [
      "tensorflow version: 2.4.1\n",
      "numpy version: 1.19.5\n",
      "pandas version: 1.2.2\n",
      "matplotlib: 3.3.4\n",
      "scikit-learn: 0.24.1\n"
     ]
    }
   ],
   "source": [
    "print(\"tensorflow version:\", tf.__version__)\n",
    "print(\"numpy version:\", np.__version__)\n",
    "print(\"pandas version:\", pd.__version__)\n",
    "print(\"matplotlib:\", pkg_resources.get_distribution(\"matplotlib\").version)\n",
    "print(\"scikit-learn:\", pkg_resources.get_distribution(\"scikit-learn\").version)"
   ]
  },
  {
   "cell_type": "code",
   "execution_count": 4,
   "metadata": {},
   "outputs": [],
   "source": [
    "logdir = pathlib.Path(\"logs_training\")\n",
    "shutil.rmtree(logdir, ignore_errors=True)"
   ]
  },
  {
   "cell_type": "markdown",
   "metadata": {},
   "source": [
    "# 1. Reading data"
   ]
  },
  {
   "cell_type": "markdown",
   "metadata": {},
   "source": [
    "In this part, we'll read data directly using tf.data and store them in a tf dataset.\n",
    "\n",
    "The data are stored in a directory called `data`, and thus can be accessed with the following path `data/Sample_IssueDataset.csv`."
   ]
  },
  {
   "cell_type": "markdown",
   "metadata": {},
   "source": [
    "## Metadata about our data\n",
    "\n",
    "Let's find out the number of features in our dataset and the number of distinct classes of our target.\n",
    "\n",
    "We'll read only the head of our data in order to extract these information. No need to load all data into memory as this is not recommended.\n"
   ]
  },
  {
   "cell_type": "code",
   "execution_count": 5,
   "metadata": {},
   "outputs": [
    {
     "name": "stdout",
     "output_type": "stream",
     "text": [
      "Columns: Index(['Access Level', 'BD877Training Completed', 'Department Code',\n",
      "       'Email Domain', 'EmployeeTargetedOverPastYear', 'Gender (code)',\n",
      "       'Social Media Activity (Scaled)', 'behaviorPattern2',\n",
      "       'fraudTraining Completed', 'peerUsageMetric6', 'usageMetric2',\n",
      "       'usageMetric5'],\n",
      "      dtype='object')\n",
      "Number of columns: 12\n"
     ]
    }
   ],
   "source": [
    "file_path = \"data/external_Microsoft_issueDataset.csv\"\n",
    "data = pd.read_csv(file_path, nrows=10)\n",
    "\n",
    "cols = data.columns\n",
    "num_cols = len(cols)\n",
    "\n",
    "print(\"Columns:\" , cols)\n",
    "print(\"Number of columns:\" , num_cols)"
   ]
  },
  {
   "cell_type": "code",
   "execution_count": 6,
   "metadata": {},
   "outputs": [
    {
     "data": {
      "text/html": [
       "<div>\n",
       "<style scoped>\n",
       "    .dataframe tbody tr th:only-of-type {\n",
       "        vertical-align: middle;\n",
       "    }\n",
       "\n",
       "    .dataframe tbody tr th {\n",
       "        vertical-align: top;\n",
       "    }\n",
       "\n",
       "    .dataframe thead th {\n",
       "        text-align: right;\n",
       "    }\n",
       "</style>\n",
       "<table border=\"1\" class=\"dataframe\">\n",
       "  <thead>\n",
       "    <tr style=\"text-align: right;\">\n",
       "      <th></th>\n",
       "      <th>Access Level</th>\n",
       "      <th>BD877Training Completed</th>\n",
       "      <th>Department Code</th>\n",
       "      <th>Email Domain</th>\n",
       "      <th>EmployeeTargetedOverPastYear</th>\n",
       "      <th>Gender (code)</th>\n",
       "      <th>Social Media Activity (Scaled)</th>\n",
       "      <th>behaviorPattern2</th>\n",
       "      <th>fraudTraining Completed</th>\n",
       "      <th>peerUsageMetric6</th>\n",
       "      <th>usageMetric2</th>\n",
       "      <th>usageMetric5</th>\n",
       "    </tr>\n",
       "  </thead>\n",
       "  <tbody>\n",
       "    <tr>\n",
       "      <th>0</th>\n",
       "      <td>2</td>\n",
       "      <td>0.0</td>\n",
       "      <td>24999</td>\n",
       "      <td>ox.ac.uk</td>\n",
       "      <td>0.0</td>\n",
       "      <td>0</td>\n",
       "      <td>0.0</td>\n",
       "      <td>0</td>\n",
       "      <td>1</td>\n",
       "      <td>5</td>\n",
       "      <td>0</td>\n",
       "      <td>7</td>\n",
       "    </tr>\n",
       "    <tr>\n",
       "      <th>1</th>\n",
       "      <td>2</td>\n",
       "      <td>0.0</td>\n",
       "      <td>10000</td>\n",
       "      <td>ox.ac.uk</td>\n",
       "      <td>1.0</td>\n",
       "      <td>1</td>\n",
       "      <td>NaN</td>\n",
       "      <td>0</td>\n",
       "      <td>0</td>\n",
       "      <td>4</td>\n",
       "      <td>0</td>\n",
       "      <td>1</td>\n",
       "    </tr>\n",
       "    <tr>\n",
       "      <th>2</th>\n",
       "      <td>0</td>\n",
       "      <td>0.0</td>\n",
       "      <td>10000</td>\n",
       "      <td>si.edu</td>\n",
       "      <td>1.0</td>\n",
       "      <td>1</td>\n",
       "      <td>0.0</td>\n",
       "      <td>0</td>\n",
       "      <td>1</td>\n",
       "      <td>0</td>\n",
       "      <td>0</td>\n",
       "      <td>3</td>\n",
       "    </tr>\n",
       "    <tr>\n",
       "      <th>3</th>\n",
       "      <td>2</td>\n",
       "      <td>1.0</td>\n",
       "      <td>54997</td>\n",
       "      <td>si.edu</td>\n",
       "      <td>0.0</td>\n",
       "      <td>0</td>\n",
       "      <td>1.0</td>\n",
       "      <td>1</td>\n",
       "      <td>0</td>\n",
       "      <td>5</td>\n",
       "      <td>1</td>\n",
       "      <td>7</td>\n",
       "    </tr>\n",
       "    <tr>\n",
       "      <th>4</th>\n",
       "      <td>1</td>\n",
       "      <td>1.0</td>\n",
       "      <td>10000</td>\n",
       "      <td>si.edu</td>\n",
       "      <td>1.0</td>\n",
       "      <td>1</td>\n",
       "      <td>0.0</td>\n",
       "      <td>2</td>\n",
       "      <td>0</td>\n",
       "      <td>5</td>\n",
       "      <td>0</td>\n",
       "      <td>7</td>\n",
       "    </tr>\n",
       "  </tbody>\n",
       "</table>\n",
       "</div>"
      ],
      "text/plain": [
       "   Access Level  BD877Training Completed  Department Code Email Domain  \\\n",
       "0             2                      0.0            24999     ox.ac.uk   \n",
       "1             2                      0.0            10000     ox.ac.uk   \n",
       "2             0                      0.0            10000       si.edu   \n",
       "3             2                      1.0            54997       si.edu   \n",
       "4             1                      1.0            10000       si.edu   \n",
       "\n",
       "   EmployeeTargetedOverPastYear  Gender (code)  \\\n",
       "0                           0.0              0   \n",
       "1                           1.0              1   \n",
       "2                           1.0              1   \n",
       "3                           0.0              0   \n",
       "4                           1.0              1   \n",
       "\n",
       "   Social Media Activity (Scaled)  behaviorPattern2  fraudTraining Completed  \\\n",
       "0                             0.0                 0                        1   \n",
       "1                             NaN                 0                        0   \n",
       "2                             0.0                 0                        1   \n",
       "3                             1.0                 1                        0   \n",
       "4                             0.0                 2                        0   \n",
       "\n",
       "   peerUsageMetric6  usageMetric2  usageMetric5  \n",
       "0                 5             0             7  \n",
       "1                 4             0             1  \n",
       "2                 0             0             3  \n",
       "3                 5             1             7  \n",
       "4                 5             0             7  "
      ]
     },
     "execution_count": 6,
     "metadata": {},
     "output_type": "execute_result"
    }
   ],
   "source": [
    "data.head()"
   ]
  },
  {
   "cell_type": "markdown",
   "metadata": {},
   "source": [
    "## Reading data using tf.data.experimental.CsvDataset\n",
    "\n",
    "There are many ways to read data directly to tf dataset:\n",
    "\n",
    "* We can read data into memory using pandas, and then transform them into tf datasets using `tf.data.Dataset.from_tensor_slices`. This is not the recommended practice as we'll be reading the whole dataset into memory.\n",
    "\n",
    "* We can read data using `tf.data.experimental.make_csv_dataset`, a nice function where we can provide the url of our data and other parameters such as batching, shufflng...\n",
    "\n",
    "There are other two APIs that may be helpful for advanced users if your use-case doesn't fit the basic patterns.\n",
    "\n",
    "* `tf.data.experimental.CsvDataset`: a lower level csv dataset constructor.\n",
    "\n",
    "* `tf.io.decode_csv`: a function for parsing lines of text into a list of CSV column tensors.\n",
    "\n",
    "Let's use `tf.data.experimental.CsvDataset`."
   ]
  },
  {
   "cell_type": "code",
   "execution_count": 7,
   "metadata": {},
   "outputs": [],
   "source": [
    "features_types = [float(), float(), str(), str(), float(), float(), float(), float(), float(), float(), float(), float()]\n",
    "\n",
    "train = tf.data.experimental.CsvDataset(\"data/train.csv\", record_defaults=features_types, header=True)\n",
    "test = tf.data.experimental.CsvDataset(\"data/test.csv\", record_defaults=features_types, header=True)\n",
    "\n",
    "train = tf.data.Dataset.zip((train, ))\n",
    "test = tf.data.Dataset.zip((test, ))\n"
   ]
  },
  {
   "cell_type": "markdown",
   "metadata": {},
   "source": [
    "## Data Splits"
   ]
  },
  {
   "cell_type": "code",
   "execution_count": 8,
   "metadata": {},
   "outputs": [
    {
     "name": "stdout",
     "output_type": "stream",
     "text": [
      "Train dataset size: 11214\n",
      "test dataset size: 2786\n"
     ]
    }
   ],
   "source": [
    "train_size = train.reduce(0, lambda x, _: x + 1).numpy()\n",
    "test_size = test.reduce(0, lambda x, _: x + 1).numpy()\n",
    "\n",
    "print(\"Train dataset size:\", train_size)\n",
    "print(\"test dataset size:\", test_size)"
   ]
  },
  {
   "cell_type": "markdown",
   "metadata": {},
   "source": [
    "## Preprocess dataset\n",
    "\n",
    "Preprocess dataset includes:\n",
    "\n",
    "* packing features into a dictionnary."
   ]
  },
  {
   "cell_type": "code",
   "execution_count": 9,
   "metadata": {},
   "outputs": [],
   "source": [
    "# fixing column names\n",
    "cols_m = [x.replace(',','') for x in cols]\n",
    "cols_m = [x.replace('(','') for x in cols_m]\n",
    "cols_m = [x.replace(')','') for x in cols_m]\n",
    "cols_m = [x.replace(\"\\'\",'') for x in cols_m]\n",
    "cols_m = [x.replace(' ','_') for x in cols_m]"
   ]
  },
  {
   "cell_type": "code",
   "execution_count": 10,
   "metadata": {},
   "outputs": [],
   "source": [
    "# A mapping function for tf dataset\n",
    "def _preprocess_line(features):\n",
    "    # Pack the result into a dictionary\n",
    "    features = dict(zip(cols_m, features))\n",
    "    target = features.pop(\"EmployeeTargetedOverPastYear\")\n",
    "    return features, target\n",
    "\n",
    "train = train.map(_preprocess_line)\n",
    "test= test.map(_preprocess_line)"
   ]
  },
  {
   "cell_type": "code",
   "execution_count": 11,
   "metadata": {},
   "outputs": [
    {
     "data": {
      "text/plain": [
       "['Access_Level',\n",
       " 'BD877Training_Completed',\n",
       " 'Department_Code',\n",
       " 'Email_Domain',\n",
       " 'EmployeeTargetedOverPastYear',\n",
       " 'Gender_code',\n",
       " 'Social_Media_Activity_Scaled',\n",
       " 'behaviorPattern2',\n",
       " 'fraudTraining_Completed',\n",
       " 'peerUsageMetric6',\n",
       " 'usageMetric2',\n",
       " 'usageMetric5']"
      ]
     },
     "execution_count": 11,
     "metadata": {},
     "output_type": "execute_result"
    }
   ],
   "source": [
    "cols_m"
   ]
  },
  {
   "cell_type": "code",
   "execution_count": 12,
   "metadata": {},
   "outputs": [
    {
     "name": "stdout",
     "output_type": "stream",
     "text": [
      "First 5 features: ['Access_Level', 'BD877Training_Completed', 'Department_Code', 'Email_Domain', 'Gender_code']\n",
      "A batch of Access_Level: [2. 2. 0. 2. 1.]\n",
      "A batch of BD877Training_Completed: [0. 0. 0. 1. 1.]\n",
      "A batch of Email_Domain: [b'ox.ac.uk' b'ox.ac.uk' b'si.edu' b'si.edu' b'si.edu']\n",
      "A batch of peerUsageMetric6: [5. 4. 0. 5. 5.]\n",
      "A batch of targets: [0. 1. 1. 0. 1.]\n"
     ]
    }
   ],
   "source": [
    "for feature_batch, label_batch in train.batch(5).take(1):\n",
    "    print('First 5 features:', list(feature_batch.keys())[:5])\n",
    "    print('A batch of Access_Level:', feature_batch[\"Access_Level\"].numpy())\n",
    "    print('A batch of BD877Training_Completed:', feature_batch[\"BD877Training_Completed\"].numpy())\n",
    "    print('A batch of Email_Domain:', feature_batch[\"Email_Domain\"].numpy())\n",
    "    print('A batch of peerUsageMetric6:', feature_batch[\"peerUsageMetric6\"].numpy())\n",
    "    print('A batch of targets:', label_batch.numpy() ) "
   ]
  },
  {
   "cell_type": "markdown",
   "metadata": {},
   "source": [
    "# 2. Feature Engineering with tf.feature_columns\n",
    "\n",
    "We'll use tensorflow feature columns to prepare our features. We can also use tf keras preprocessing layers.\n",
    "\n",
    "**The best thing about using feature columns and embed them in the model, is that you don't have to repeat the feature engineering process for new serving data.**"
   ]
  },
  {
   "cell_type": "code",
   "execution_count": 13,
   "metadata": {},
   "outputs": [],
   "source": [
    "# numerical features\n",
    "cols_numeric = []\n",
    "\n",
    "# categorical ordinal features\n",
    "cols_cat_ord = [\"Access_Level\", \n",
    "                \"behaviorPattern2\", \n",
    "                \"peerUsageMetric6\",\n",
    "                \"usageMetric2\", \n",
    "                \"usageMetric5\",\n",
    "                \"Social_Media_Activity_Scaled\"]\n",
    "\n",
    "#\n",
    "cols_cat_nom_1 = ['BD877Training_Completed', 'fraudTraining_Completed', 'Gender_code'] # already binary\n",
    "cols_cat_nom_2 = ['Department_Code', 'Email_Domain'] # one hot encoding\n",
    "\n",
    "cols_vocabulary_list = {\n",
    "    'Department_Code': [\"10000\", \"24999\", \"39998\", \"54997\", \"69996\", \"84995\"],\n",
    "    'Email_Domain': ['ox.ac.uk', 'si.edu', 'slideshare.net', 'google.co.uk', 'nsw.gov.au', 'ehow.com']\n",
    "}"
   ]
  },
  {
   "cell_type": "markdown",
   "metadata": {},
   "source": [
    "### Normalizing Numerical Features\n",
    "\n",
    "In order to normalize the numerical features with feature columns, we need to provide it with the normalization function that should take the mean and std and normalize accordingly.\n",
    "\n",
    "So we need to calculate these aggregarated stats in advance."
   ]
  },
  {
   "cell_type": "markdown",
   "metadata": {},
   "source": [
    "First let's select the numerical features of our training dataset. Those whose aggregated values are to be calculated."
   ]
  },
  {
   "cell_type": "code",
   "execution_count": 14,
   "metadata": {},
   "outputs": [],
   "source": [
    "#def extract_num_features(features, targets):\n",
    "#    features = { key: features[key] for key in cols_numeric }\n",
    "#    return features\n",
    "\n",
    "#train_num_features = train.map(extract_num_features)"
   ]
  },
  {
   "cell_type": "code",
   "execution_count": 15,
   "metadata": {},
   "outputs": [],
   "source": [
    "def extract_cat_ord_features(features, targets):\n",
    "    features = { key: features[key] for key in cols_cat_ord }\n",
    "    return features\n",
    "\n",
    "train_cat_ord_features = train.map(extract_cat_ord_features)"
   ]
  },
  {
   "cell_type": "markdown",
   "metadata": {},
   "source": [
    "The best way to calculate aggregates over tensorflow datasets is to use the `reduce` method. The transformation calls reduce_func successively on every element of the input dataset until the dataset is exhausted, aggregating information in its internal state. The initial_state argument is used for the initial state and the final state is returned as the result."
   ]
  },
  {
   "cell_type": "code",
   "execution_count": 16,
   "metadata": {},
   "outputs": [],
   "source": [
    "def features_aggregator_sum(x, y):\n",
    "    features_sum = {key: x[key] + y[key] for key in cols_numeric}    \n",
    "    return features_sum\n",
    "\n",
    "def features_aggregator_sum_squared(x, y):\n",
    "    features_sum = {key: x[key] + (y[key] - train_num_means[key]/train_size)**2 for key in cols_numeric}    \n",
    "    return features_sum\n",
    "\n",
    "#train_num_means = train_num_features.reduce({key: 0.0 for key in cols_numeric}, features_aggregator_sum)\n",
    "#train_num_stds = train_num_features.reduce({key: 0.0 for key in cols_numeric}, features_aggregator_sum_squared)\n",
    "\n",
    "#train_num_means = {key: train_num_means[key].numpy()/train_size for key in train_num_means}\n",
    "#train_num_stds = {key: (train_num_stds[key].numpy()/train_size)**(1/2) for key in train_num_stds}"
   ]
  },
  {
   "cell_type": "code",
   "execution_count": 17,
   "metadata": {},
   "outputs": [],
   "source": [
    "def features_aggregator_min(x, y):\n",
    "    features_min = {key: tf.math.minimum(x[key], y[key]) for key in cols_cat_ord}    \n",
    "    return features_min\n",
    "\n",
    "def features_aggregator_max(x, y):\n",
    "    features_max = {key: tf.math.maximum(x[key], y[key]) for key in cols_cat_ord}    \n",
    "    return features_max\n",
    "\n",
    "\n",
    "train_cat_ord_min = train_cat_ord_features.reduce({key: 1000.00 for key in cols_cat_ord}, features_aggregator_min)\n",
    "train_cat_ord_max = train_cat_ord_features.reduce({key: -1000.00 for key in cols_cat_ord}, features_aggregator_max)\n",
    "\n",
    "train_cat_ord_min = {key: train_cat_ord_min[key].numpy() for key in train_cat_ord_min}\n",
    "train_cat_ord_max = {key: train_cat_ord_max[key].numpy() for key in train_cat_ord_max}"
   ]
  },
  {
   "cell_type": "markdown",
   "metadata": {},
   "source": [
    "Let's now define the feature strategy for each feature depending on its type.\n",
    "\n",
    "A numeric column is the simplest type of column. It is used to represent real valued features. When using this column, your model will receive the column value from the dataframe unchanged. We can also provide a numeric feature with a normalization function in order to normalize our features with our custom provided function.\n",
    "\n",
    "In this dataset, we have features represented as a string. We cannot feed strings directly to a model. Instead, we must first map them to numeric values. The categorical vocabulary columns provide a way to represent strings as a one-hot vector (much like you have seen above with age buckets). The vocabulary can be passed as a list using categorical_column_with_vocabulary_list, or loaded from a file using categorical_column_with_vocabulary_file."
   ]
  },
  {
   "cell_type": "code",
   "execution_count": 18,
   "metadata": {},
   "outputs": [],
   "source": [
    "feature_columns = []\n",
    "\n",
    "# numeric cols\n",
    "for col_numeric in cols_numeric:\n",
    "    feature_columns.append(tf.feature_column.numeric_column(col_numeric, normalizer_fn=lambda x: (x - train_num_means[col_numeric]) / train_num_stds[col_numeric]))\n",
    "\n",
    "# categorical cols ordinal\n",
    "for col_cat_ord in cols_cat_ord:\n",
    "    feature_columns.append(tf.feature_column.numeric_column(col_cat_ord, normalizer_fn=lambda x: (x - train_cat_ord_min[col_cat_ord]) / (train_cat_ord_max[col_cat_ord] - train_cat_ord_min[col_cat_ord]) ))\n",
    "    \n",
    "# categorical cols ordinal 1 (binary already float type)\n",
    "for col_cat_nom_1 in cols_cat_nom_1:\n",
    "    feature_columns.append(tf.feature_column.numeric_column(col_cat_nom_1))\n",
    "    \n",
    "# categorical cols ordinal 2 (string to one hot code)\n",
    "for col_cat_nom_2 in cols_cat_nom_2:\n",
    "    categorical = tf.feature_column.categorical_column_with_vocabulary_list(\n",
    "        col_cat_nom_2, cols_vocabulary_list[col_cat_nom_2])\n",
    "    indicator = tf.feature_column.indicator_column(categorical)\n",
    "    feature_columns.append(indicator)    \n",
    "    \n"
   ]
  },
  {
   "cell_type": "markdown",
   "metadata": {},
   "source": [
    "# 3. Create, compile, and train the model"
   ]
  },
  {
   "cell_type": "code",
   "execution_count": 19,
   "metadata": {},
   "outputs": [],
   "source": [
    "history = {}"
   ]
  },
  {
   "cell_type": "markdown",
   "metadata": {},
   "source": [
    "## 3.1 Baseline Model\n",
    "\n",
    "Let's create our first baseline model. The model has 2 fully connected layers with 128 nodes each. The second layer is followed by a dropout layer. "
   ]
  },
  {
   "cell_type": "code",
   "execution_count": 20,
   "metadata": {},
   "outputs": [],
   "source": [
    "BATCH_SIZE = 256\n",
    "N_EPOCHS = 100\n",
    "STEPS_PER_EPOCH = train_size/BATCH_SIZE"
   ]
  },
  {
   "cell_type": "code",
   "execution_count": 21,
   "metadata": {},
   "outputs": [],
   "source": [
    "lr_schedule = tf.keras.optimizers.schedules.InverseTimeDecay(\n",
    "  0.001,\n",
    "  decay_steps=STEPS_PER_EPOCH*1000,\n",
    "  decay_rate=10,\n",
    "  staircase=False)"
   ]
  },
  {
   "cell_type": "code",
   "execution_count": 22,
   "metadata": {},
   "outputs": [
    {
     "data": {
      "image/png": "[encoded data removed]",
      "text/plain": [
       "<Figure size 576x432 with 1 Axes>"
      ]
     },
     "metadata": {
      "needs_background": "light"
     },
     "output_type": "display_data"
    }
   ],
   "source": [
    "step = np.linspace(0,10000)\n",
    "lr = lr_schedule(step)\n",
    "plt.figure(figsize = (8,6))\n",
    "plt.plot(step/STEPS_PER_EPOCH, lr)\n",
    "#plt.ylim([0,max(plt.ylim())])\n",
    "plt.xlabel('Epoch')\n",
    "_ = plt.ylabel('Learning Rate')"
   ]
  },
  {
   "cell_type": "code",
   "execution_count": 23,
   "metadata": {},
   "outputs": [],
   "source": [
    "def create_model():\n",
    "    model = tf.keras.Sequential([\n",
    "        tf.keras.layers.DenseFeatures(feature_columns),\n",
    "        tf.keras.layers.Dense(256, activation=\"relu\"),\n",
    "        tf.keras.layers.Dense(128, activation=\"relu\"),\n",
    "        tfa.layers.WeightNormalization(tf.keras.layers.Dense(1, activation=\"sigmoid\"))\n",
    "    ])\n",
    "    model.compile(optimizer=tf.keras.optimizers.Adam(lr_schedule),\n",
    "                  loss=tf.keras.losses.BinaryCrossentropy(from_logits=False),\n",
    "                  metrics=['accuracy'])\n",
    "    return model"
   ]
  },
  {
   "cell_type": "code",
   "execution_count": 24,
   "metadata": {},
   "outputs": [],
   "source": [
    "model_baseline = create_model()\n",
    "#model.summary()"
   ]
  },
  {
   "cell_type": "markdown",
   "metadata": {},
   "source": [
    "Let's batch our data."
   ]
  },
  {
   "cell_type": "code",
   "execution_count": 25,
   "metadata": {},
   "outputs": [],
   "source": [
    "train = train.batch(BATCH_SIZE)\n",
    "test= test.batch(BATCH_SIZE)"
   ]
  },
  {
   "cell_type": "markdown",
   "metadata": {},
   "source": [
    "We'll use two callbacks. The early stopping callback stops the training when the validation loss becomes stale. The tensorboard callback make sure the model logs are saved to a directory to be used by tensorboard later."
   ]
  },
  {
   "cell_type": "code",
   "execution_count": 26,
   "metadata": {},
   "outputs": [
    {
     "name": "stdout",
     "output_type": "stream",
     "text": [
      "Epoch 1/100\n",
      "44/44 [==============================] - 4s 61ms/step - loss: 0.4072 - accuracy: 0.8195 - val_loss: 0.2832 - val_accuracy: 0.9092\n",
      "\n",
      "Epoch: 0, accuracy:0.8681,  loss:0.3476,  val_accuracy:0.9092,  val_loss:0.2832,  \n",
      ".Epoch 2/100\n",
      "44/44 [==============================] - 1s 20ms/step - loss: 0.2753 - accuracy: 0.9124 - val_loss: 0.2601 - val_accuracy: 0.9235\n",
      ".Epoch 3/100\n",
      "44/44 [==============================] - 1s 20ms/step - loss: 0.2534 - accuracy: 0.9276 - val_loss: 0.2523 - val_accuracy: 0.9289\n",
      ".Epoch 4/100\n",
      "44/44 [==============================] - 1s 19ms/step - loss: 0.2421 - accuracy: 0.9322 - val_loss: 0.2481 - val_accuracy: 0.9307\n",
      ".Epoch 5/100\n",
      "44/44 [==============================] - 1s 20ms/step - loss: 0.2342 - accuracy: 0.9356 - val_loss: 0.2451 - val_accuracy: 0.9311\n",
      ".Epoch 6/100\n",
      "44/44 [==============================] - 1s 19ms/step - loss: 0.2272 - accuracy: 0.9382 - val_loss: 0.2430 - val_accuracy: 0.9347\n",
      ".Epoch 7/100\n",
      "44/44 [==============================] - 1s 19ms/step - loss: 0.2213 - accuracy: 0.9393 - val_loss: 0.2417 - val_accuracy: 0.9350\n",
      ".Epoch 8/100\n",
      "44/44 [==============================] - 1s 20ms/step - loss: 0.2162 - accuracy: 0.9411 - val_loss: 0.2409 - val_accuracy: 0.9343\n",
      ".Epoch 9/100\n",
      "44/44 [==============================] - 1s 18ms/step - loss: 0.2117 - accuracy: 0.9414 - val_loss: 0.2402 - val_accuracy: 0.9354\n",
      ".Epoch 10/100\n",
      "44/44 [==============================] - 1s 21ms/step - loss: 0.2077 - accuracy: 0.9435 - val_loss: 0.2398 - val_accuracy: 0.9354\n",
      ".Epoch 11/100\n",
      "44/44 [==============================] - 1s 20ms/step - loss: 0.2043 - accuracy: 0.9438 - val_loss: 0.2401 - val_accuracy: 0.9354\n",
      ".Epoch 12/100\n",
      "44/44 [==============================] - 1s 20ms/step - loss: 0.2013 - accuracy: 0.9447 - val_loss: 0.2402 - val_accuracy: 0.9365\n",
      ".Epoch 13/100\n",
      "44/44 [==============================] - 1s 20ms/step - loss: 0.1984 - accuracy: 0.9450 - val_loss: 0.2406 - val_accuracy: 0.9358\n",
      ".Epoch 14/100\n",
      "44/44 [==============================] - 1s 20ms/step - loss: 0.1958 - accuracy: 0.9460 - val_loss: 0.2411 - val_accuracy: 0.9347\n",
      ".Epoch 15/100\n",
      "44/44 [==============================] - 1s 20ms/step - loss: 0.1933 - accuracy: 0.9466 - val_loss: 0.2414 - val_accuracy: 0.9354\n",
      ".Epoch 16/100\n",
      "44/44 [==============================] - 1s 20ms/step - loss: 0.1910 - accuracy: 0.9468 - val_loss: 0.2420 - val_accuracy: 0.9358\n",
      ".Epoch 17/100\n",
      "44/44 [==============================] - 1s 17ms/step - loss: 0.1889 - accuracy: 0.9473 - val_loss: 0.2424 - val_accuracy: 0.9358\n",
      ".Epoch 18/100\n",
      "44/44 [==============================] - 1s 20ms/step - loss: 0.1867 - accuracy: 0.9479 - val_loss: 0.2428 - val_accuracy: 0.9350\n",
      ".Epoch 19/100\n",
      "44/44 [==============================] - 1s 18ms/step - loss: 0.1849 - accuracy: 0.9481 - val_loss: 0.2432 - val_accuracy: 0.9350\n",
      ".Epoch 20/100\n",
      "44/44 [==============================] - 1s 17ms/step - loss: 0.1829 - accuracy: 0.9488 - val_loss: 0.2438 - val_accuracy: 0.9354\n",
      ".Epoch 21/100\n",
      "44/44 [==============================] - 1s 22ms/step - loss: 0.1812 - accuracy: 0.9498 - val_loss: 0.2447 - val_accuracy: 0.9361\n",
      ".Epoch 22/100\n",
      "44/44 [==============================] - 1s 24ms/step - loss: 0.1794 - accuracy: 0.9496 - val_loss: 0.2455 - val_accuracy: 0.9358\n",
      ".Epoch 23/100\n",
      "44/44 [==============================] - 1s 25ms/step - loss: 0.1778 - accuracy: 0.9500 - val_loss: 0.2460 - val_accuracy: 0.9361\n",
      ".Epoch 24/100\n",
      "44/44 [==============================] - 1s 23ms/step - loss: 0.1761 - accuracy: 0.9501 - val_loss: 0.2466 - val_accuracy: 0.9354\n",
      ".Epoch 25/100\n",
      "44/44 [==============================] - 1s 21ms/step - loss: 0.1744 - accuracy: 0.9509 - val_loss: 0.2473 - val_accuracy: 0.9347\n",
      ".Epoch 26/100\n",
      "44/44 [==============================] - 1s 20ms/step - loss: 0.1728 - accuracy: 0.9510 - val_loss: 0.2479 - val_accuracy: 0.9347\n",
      ".Epoch 27/100\n",
      "44/44 [==============================] - 1s 20ms/step - loss: 0.1713 - accuracy: 0.9511 - val_loss: 0.2488 - val_accuracy: 0.9354\n",
      "."
     ]
    }
   ],
   "source": [
    "def get_callbacks(name):\n",
    "    return [\n",
    "        tfdocs.modeling.EpochDots(),\n",
    "        tf.keras.callbacks.EarlyStopping(monitor='val_accuracy', patience=15),\n",
    "        tf.keras.callbacks.TensorBoard(logdir/name),\n",
    "    ]\n",
    "\n",
    "model_name = \"baseline\"\n",
    "history[model_name] = model_baseline.fit(train,\n",
    "          validation_data=test,\n",
    "          epochs=N_EPOCHS,\n",
    "          callbacks=get_callbacks(model_name))"
   ]
  },
  {
   "cell_type": "code",
   "execution_count": 27,
   "metadata": {
    "scrolled": true
   },
   "outputs": [
    {
     "name": "stdout",
     "output_type": "stream",
     "text": [
      "11/11 [==============================] - 0s 18ms/step - loss: 0.2488 - accuracy: 0.9354\n",
      "Model binary cross entropy on validation set: 0.2487950325012207\n",
      "Model accuracy on validation set: 0.9353912472724915\n"
     ]
    }
   ],
   "source": [
    "model_perf = model_baseline.evaluate(test)\n",
    "\n",
    "print(\"Model binary cross entropy on validation set: {}\".format(model_perf[0]))\n",
    "print(\"Model accuracy on validation set: {}\".format(model_perf[1]))"
   ]
  },
  {
   "cell_type": "code",
   "execution_count": 28,
   "metadata": {},
   "outputs": [
    {
     "data": {
      "image/png": "[encoded data removed]",
      "text/plain": [
       "<Figure size 720x432 with 1 Axes>"
      ]
     },
     "metadata": {
      "needs_background": "light"
     },
     "output_type": "display_data"
    }
   ],
   "source": [
    "plotter = tfdocs.plots.HistoryPlotter(metric = 'loss', smoothing_std=10)\n",
    "plt.figure(figsize=(10, 6))\n",
    "plotter.plot(history)"
   ]
  },
  {
   "cell_type": "code",
   "execution_count": 29,
   "metadata": {
    "scrolled": true
   },
   "outputs": [
    {
     "data": {
      "image/png": "[encoded data removed]",
      "text/plain": [
       "<Figure size 720x432 with 1 Axes>"
      ]
     },
     "metadata": {
      "needs_background": "light"
     },
     "output_type": "display_data"
    }
   ],
   "source": [
    "plotter = tfdocs.plots.HistoryPlotter(metric = 'accuracy', smoothing_std=10)\n",
    "plt.figure(figsize=(10, 6))\n",
    "plotter.plot(history)"
   ]
  },
  {
   "cell_type": "markdown",
   "metadata": {},
   "source": [
    "## 3.2. Experimenting with the model\n",
    "\n",
    "We can experiment with the model to see how performance change over the validation set. For example, we can experiment adding batch normalization after each layer."
   ]
  },
  {
   "cell_type": "markdown",
   "metadata": {},
   "source": [
    "### 3.2.1. Small Model"
   ]
  },
  {
   "cell_type": "code",
   "execution_count": 30,
   "metadata": {},
   "outputs": [],
   "source": [
    "def create_model():\n",
    "    model = tf.keras.Sequential([\n",
    "        tf.keras.layers.DenseFeatures(feature_columns),\n",
    "        tf.keras.layers.Dense(512, activation=\"relu\"),\n",
    "        tf.keras.layers.Dropout(0.2),\n",
    "        tf.keras.layers.Dense(256, activation=\"relu\"),\n",
    "        tf.keras.layers.Dropout(0.2),\n",
    "        tf.keras.layers.Dense(1, activation=\"sigmoid\")\n",
    "    ])\n",
    "    model.compile(optimizer=tf.keras.optimizers.Adam(lr_schedule),\n",
    "                  loss=tf.keras.losses.BinaryCrossentropy(from_logits=False),\n",
    "                  metrics=['accuracy'])\n",
    "    return model"
   ]
  },
  {
   "cell_type": "code",
   "execution_count": 31,
   "metadata": {},
   "outputs": [],
   "source": [
    "model_small = create_model()\n",
    "#model.summary()"
   ]
  },
  {
   "cell_type": "code",
   "execution_count": 32,
   "metadata": {},
   "outputs": [
    {
     "name": "stdout",
     "output_type": "stream",
     "text": [
      "Epoch 1/100\n",
      "44/44 [==============================] - 2s 30ms/step - loss: 0.4832 - accuracy: 0.7729 - val_loss: 0.2854 - val_accuracy: 0.9124\n",
      "\n",
      "Epoch: 0, accuracy:0.8375,  loss:0.3938,  val_accuracy:0.9124,  val_loss:0.2854,  \n",
      ".Epoch 2/100\n",
      "44/44 [==============================] - 1s 20ms/step - loss: 0.2859 - accuracy: 0.9076 - val_loss: 0.2576 - val_accuracy: 0.9250\n",
      ".Epoch 3/100\n",
      "44/44 [==============================] - 1s 19ms/step - loss: 0.2572 - accuracy: 0.9240 - val_loss: 0.2455 - val_accuracy: 0.9296\n",
      ".Epoch 4/100\n",
      "44/44 [==============================] - 1s 21ms/step - loss: 0.2472 - accuracy: 0.9313 - val_loss: 0.2406 - val_accuracy: 0.9329\n",
      ".Epoch 5/100\n",
      "44/44 [==============================] - 1s 20ms/step - loss: 0.2381 - accuracy: 0.9329 - val_loss: 0.2373 - val_accuracy: 0.9361\n",
      ".Epoch 6/100\n",
      "44/44 [==============================] - 1s 21ms/step - loss: 0.2345 - accuracy: 0.9363 - val_loss: 0.2352 - val_accuracy: 0.9368\n",
      ".Epoch 7/100\n",
      "44/44 [==============================] - 1s 20ms/step - loss: 0.2300 - accuracy: 0.9373 - val_loss: 0.2338 - val_accuracy: 0.9375\n",
      ".Epoch 8/100\n",
      "44/44 [==============================] - 1s 20ms/step - loss: 0.2276 - accuracy: 0.9361 - val_loss: 0.2336 - val_accuracy: 0.9350\n",
      ".Epoch 9/100\n",
      "44/44 [==============================] - 1s 21ms/step - loss: 0.2246 - accuracy: 0.9359 - val_loss: 0.2321 - val_accuracy: 0.9368\n",
      ".Epoch 10/100\n",
      "44/44 [==============================] - 1s 21ms/step - loss: 0.2203 - accuracy: 0.9395 - val_loss: 0.2315 - val_accuracy: 0.9358\n",
      ".Epoch 11/100\n",
      "44/44 [==============================] - 1s 18ms/step - loss: 0.2164 - accuracy: 0.9382 - val_loss: 0.2310 - val_accuracy: 0.9361\n",
      ".Epoch 12/100\n",
      "44/44 [==============================] - 1s 16ms/step - loss: 0.2136 - accuracy: 0.9412 - val_loss: 0.2304 - val_accuracy: 0.9372\n",
      ".Epoch 13/100\n",
      "44/44 [==============================] - 1s 16ms/step - loss: 0.2120 - accuracy: 0.9395 - val_loss: 0.2291 - val_accuracy: 0.9375\n",
      ".Epoch 14/100\n",
      "44/44 [==============================] - 1s 16ms/step - loss: 0.2095 - accuracy: 0.9428 - val_loss: 0.2293 - val_accuracy: 0.9383\n",
      ".Epoch 15/100\n",
      "44/44 [==============================] - 1s 20ms/step - loss: 0.2116 - accuracy: 0.9390 - val_loss: 0.2289 - val_accuracy: 0.9386\n",
      ".Epoch 16/100\n",
      "44/44 [==============================] - 1s 18ms/step - loss: 0.2049 - accuracy: 0.9440 - val_loss: 0.2273 - val_accuracy: 0.9393\n",
      ".Epoch 17/100\n",
      "44/44 [==============================] - 1s 17ms/step - loss: 0.1991 - accuracy: 0.9449 - val_loss: 0.2274 - val_accuracy: 0.9401\n",
      ".Epoch 18/100\n",
      "44/44 [==============================] - 1s 20ms/step - loss: 0.2022 - accuracy: 0.9431 - val_loss: 0.2277 - val_accuracy: 0.9397\n",
      ".Epoch 19/100\n",
      "44/44 [==============================] - 1s 19ms/step - loss: 0.1980 - accuracy: 0.9460 - val_loss: 0.2272 - val_accuracy: 0.9390\n",
      ".Epoch 20/100\n",
      "44/44 [==============================] - 1s 21ms/step - loss: 0.1970 - accuracy: 0.9468 - val_loss: 0.2275 - val_accuracy: 0.9393\n",
      ".Epoch 21/100\n",
      "44/44 [==============================] - 1s 20ms/step - loss: 0.1965 - accuracy: 0.9465 - val_loss: 0.2257 - val_accuracy: 0.9393\n",
      ".Epoch 22/100\n",
      "44/44 [==============================] - 1s 20ms/step - loss: 0.1945 - accuracy: 0.9479 - val_loss: 0.2272 - val_accuracy: 0.9383\n",
      ".Epoch 23/100\n",
      "44/44 [==============================] - 1s 19ms/step - loss: 0.1922 - accuracy: 0.9467 - val_loss: 0.2278 - val_accuracy: 0.9393\n",
      ".Epoch 24/100\n",
      "44/44 [==============================] - 1s 19ms/step - loss: 0.1905 - accuracy: 0.9471 - val_loss: 0.2273 - val_accuracy: 0.9397\n",
      ".Epoch 25/100\n",
      "44/44 [==============================] - 1s 21ms/step - loss: 0.1892 - accuracy: 0.9461 - val_loss: 0.2276 - val_accuracy: 0.9383\n",
      ".Epoch 26/100\n",
      "44/44 [==============================] - 1s 20ms/step - loss: 0.1866 - accuracy: 0.9487 - val_loss: 0.2283 - val_accuracy: 0.9401\n",
      ".Epoch 27/100\n",
      "44/44 [==============================] - 1s 19ms/step - loss: 0.1876 - accuracy: 0.9481 - val_loss: 0.2261 - val_accuracy: 0.9404\n",
      ".Epoch 28/100\n",
      "44/44 [==============================] - 1s 19ms/step - loss: 0.1845 - accuracy: 0.9475 - val_loss: 0.2267 - val_accuracy: 0.9397\n",
      ".Epoch 29/100\n",
      "44/44 [==============================] - 1s 18ms/step - loss: 0.1834 - accuracy: 0.9493 - val_loss: 0.2265 - val_accuracy: 0.9415\n",
      ".Epoch 30/100\n",
      "44/44 [==============================] - 1s 19ms/step - loss: 0.1818 - accuracy: 0.9507 - val_loss: 0.2278 - val_accuracy: 0.9408\n",
      ".Epoch 31/100\n",
      "44/44 [==============================] - 1s 19ms/step - loss: 0.1806 - accuracy: 0.9490 - val_loss: 0.2258 - val_accuracy: 0.9419\n",
      ".Epoch 32/100\n",
      "44/44 [==============================] - 1s 20ms/step - loss: 0.1791 - accuracy: 0.9498 - val_loss: 0.2272 - val_accuracy: 0.9415\n",
      ".Epoch 33/100\n",
      "44/44 [==============================] - 1s 21ms/step - loss: 0.1781 - accuracy: 0.9495 - val_loss: 0.2266 - val_accuracy: 0.9419\n",
      ".Epoch 34/100\n",
      "44/44 [==============================] - 1s 20ms/step - loss: 0.1758 - accuracy: 0.9505 - val_loss: 0.2279 - val_accuracy: 0.9411\n",
      ".Epoch 35/100\n",
      "44/44 [==============================] - 1s 20ms/step - loss: 0.1757 - accuracy: 0.9514 - val_loss: 0.2287 - val_accuracy: 0.9411\n",
      ".Epoch 36/100\n",
      "44/44 [==============================] - 1s 20ms/step - loss: 0.1781 - accuracy: 0.9485 - val_loss: 0.2279 - val_accuracy: 0.9419\n",
      ".Epoch 37/100\n",
      "44/44 [==============================] - 1s 18ms/step - loss: 0.1737 - accuracy: 0.9515 - val_loss: 0.2285 - val_accuracy: 0.9411\n",
      ".Epoch 38/100\n",
      "44/44 [==============================] - 1s 16ms/step - loss: 0.1721 - accuracy: 0.9504 - val_loss: 0.2298 - val_accuracy: 0.9419\n",
      ".Epoch 39/100\n",
      "44/44 [==============================] - 1s 18ms/step - loss: 0.1707 - accuracy: 0.9505 - val_loss: 0.2293 - val_accuracy: 0.9419\n",
      ".Epoch 40/100\n",
      "44/44 [==============================] - 1s 21ms/step - loss: 0.1705 - accuracy: 0.9511 - val_loss: 0.2297 - val_accuracy: 0.9419\n",
      ".Epoch 41/100\n",
      "44/44 [==============================] - 1s 21ms/step - loss: 0.1710 - accuracy: 0.9496 - val_loss: 0.2299 - val_accuracy: 0.9426\n",
      ".Epoch 42/100\n",
      "44/44 [==============================] - 1s 20ms/step - loss: 0.1695 - accuracy: 0.9502 - val_loss: 0.2295 - val_accuracy: 0.9422\n",
      ".Epoch 43/100\n",
      "44/44 [==============================] - 1s 19ms/step - loss: 0.1651 - accuracy: 0.9527 - val_loss: 0.2317 - val_accuracy: 0.9429\n",
      ".Epoch 44/100\n",
      "44/44 [==============================] - 1s 19ms/step - loss: 0.1659 - accuracy: 0.9506 - val_loss: 0.2346 - val_accuracy: 0.9422\n",
      ".Epoch 45/100\n",
      "44/44 [==============================] - 1s 20ms/step - loss: 0.1651 - accuracy: 0.9504 - val_loss: 0.2331 - val_accuracy: 0.9429\n",
      ".Epoch 46/100\n",
      "44/44 [==============================] - 1s 20ms/step - loss: 0.1621 - accuracy: 0.9537 - val_loss: 0.2342 - val_accuracy: 0.9433\n",
      ".Epoch 47/100\n",
      "44/44 [==============================] - 1s 19ms/step - loss: 0.1609 - accuracy: 0.9519 - val_loss: 0.2352 - val_accuracy: 0.9433\n",
      ".Epoch 48/100\n",
      "44/44 [==============================] - 1s 20ms/step - loss: 0.1594 - accuracy: 0.9531 - val_loss: 0.2360 - val_accuracy: 0.9408\n",
      ".Epoch 49/100\n",
      "44/44 [==============================] - 1s 21ms/step - loss: 0.1602 - accuracy: 0.9524 - val_loss: 0.2379 - val_accuracy: 0.9422\n",
      ".Epoch 50/100\n",
      "44/44 [==============================] - 1s 21ms/step - loss: 0.1590 - accuracy: 0.9521 - val_loss: 0.2370 - val_accuracy: 0.9422\n",
      ".Epoch 51/100\n",
      "44/44 [==============================] - 1s 18ms/step - loss: 0.1605 - accuracy: 0.9509 - val_loss: 0.2380 - val_accuracy: 0.9422\n",
      ".Epoch 52/100\n",
      "44/44 [==============================] - 1s 21ms/step - loss: 0.1589 - accuracy: 0.9538 - val_loss: 0.2393 - val_accuracy: 0.9436\n",
      ".Epoch 53/100\n",
      "44/44 [==============================] - 1s 19ms/step - loss: 0.1571 - accuracy: 0.9532 - val_loss: 0.2385 - val_accuracy: 0.9422\n",
      ".Epoch 54/100\n",
      "44/44 [==============================] - 1s 19ms/step - loss: 0.1549 - accuracy: 0.9536 - val_loss: 0.2392 - val_accuracy: 0.9422\n",
      ".Epoch 55/100\n",
      "44/44 [==============================] - 1s 20ms/step - loss: 0.1569 - accuracy: 0.9525 - val_loss: 0.2406 - val_accuracy: 0.9429\n",
      ".Epoch 56/100\n",
      "44/44 [==============================] - 1s 20ms/step - loss: 0.1557 - accuracy: 0.9550 - val_loss: 0.2405 - val_accuracy: 0.9433\n",
      ".Epoch 57/100\n",
      "44/44 [==============================] - 1s 15ms/step - loss: 0.1521 - accuracy: 0.9546 - val_loss: 0.2419 - val_accuracy: 0.9408\n",
      ".Epoch 58/100\n",
      "44/44 [==============================] - 1s 19ms/step - loss: 0.1508 - accuracy: 0.9541 - val_loss: 0.2420 - val_accuracy: 0.9433\n",
      ".Epoch 59/100\n",
      "44/44 [==============================] - 1s 20ms/step - loss: 0.1551 - accuracy: 0.9528 - val_loss: 0.2442 - val_accuracy: 0.9422\n",
      ".Epoch 60/100\n",
      "44/44 [==============================] - 1s 20ms/step - loss: 0.1513 - accuracy: 0.9543 - val_loss: 0.2448 - val_accuracy: 0.9415\n",
      ".Epoch 61/100\n",
      "44/44 [==============================] - 1s 19ms/step - loss: 0.1502 - accuracy: 0.9540 - val_loss: 0.2457 - val_accuracy: 0.9426\n",
      ".Epoch 62/100\n",
      "44/44 [==============================] - 1s 19ms/step - loss: 0.1481 - accuracy: 0.9546 - val_loss: 0.2466 - val_accuracy: 0.9436\n",
      ".Epoch 63/100\n",
      "44/44 [==============================] - 1s 20ms/step - loss: 0.1449 - accuracy: 0.9555 - val_loss: 0.2486 - val_accuracy: 0.9415\n",
      ".Epoch 64/100\n",
      "44/44 [==============================] - 1s 20ms/step - loss: 0.1486 - accuracy: 0.9543 - val_loss: 0.2478 - val_accuracy: 0.9433\n",
      ".Epoch 65/100\n",
      "44/44 [==============================] - 1s 19ms/step - loss: 0.1484 - accuracy: 0.9531 - val_loss: 0.2484 - val_accuracy: 0.9444\n",
      ".Epoch 66/100\n",
      "44/44 [==============================] - 1s 18ms/step - loss: 0.1454 - accuracy: 0.9551 - val_loss: 0.2486 - val_accuracy: 0.9419\n",
      ".Epoch 67/100\n",
      "44/44 [==============================] - 1s 19ms/step - loss: 0.1434 - accuracy: 0.9562 - val_loss: 0.2511 - val_accuracy: 0.9411\n",
      ".Epoch 68/100\n",
      "44/44 [==============================] - 1s 16ms/step - loss: 0.1442 - accuracy: 0.9553 - val_loss: 0.2498 - val_accuracy: 0.9429\n",
      ".Epoch 69/100\n",
      "44/44 [==============================] - 1s 20ms/step - loss: 0.1426 - accuracy: 0.9559 - val_loss: 0.2531 - val_accuracy: 0.9429\n",
      ".Epoch 70/100\n",
      "44/44 [==============================] - 1s 18ms/step - loss: 0.1436 - accuracy: 0.9561 - val_loss: 0.2514 - val_accuracy: 0.9422\n",
      ".Epoch 71/100\n",
      "44/44 [==============================] - 1s 20ms/step - loss: 0.1408 - accuracy: 0.9547 - val_loss: 0.2550 - val_accuracy: 0.9422\n",
      ".Epoch 72/100\n",
      "44/44 [==============================] - 1s 20ms/step - loss: 0.1455 - accuracy: 0.9558 - val_loss: 0.2531 - val_accuracy: 0.9419\n",
      ".Epoch 73/100\n",
      "44/44 [==============================] - 1s 19ms/step - loss: 0.1396 - accuracy: 0.9563 - val_loss: 0.2544 - val_accuracy: 0.9404\n",
      ".Epoch 74/100\n",
      "44/44 [==============================] - 1s 17ms/step - loss: 0.1401 - accuracy: 0.9550 - val_loss: 0.2571 - val_accuracy: 0.9404\n",
      ".Epoch 75/100\n",
      "44/44 [==============================] - 1s 15ms/step - loss: 0.1384 - accuracy: 0.9567 - val_loss: 0.2559 - val_accuracy: 0.9411\n",
      ".Epoch 76/100\n",
      "44/44 [==============================] - 1s 15ms/step - loss: 0.1426 - accuracy: 0.9556 - val_loss: 0.2576 - val_accuracy: 0.9426\n",
      ".Epoch 77/100\n",
      "44/44 [==============================] - 1s 16ms/step - loss: 0.1388 - accuracy: 0.9555 - val_loss: 0.2572 - val_accuracy: 0.9426\n",
      ".Epoch 78/100\n",
      "44/44 [==============================] - 1s 19ms/step - loss: 0.1395 - accuracy: 0.9558 - val_loss: 0.2598 - val_accuracy: 0.9408\n",
      ".Epoch 79/100\n",
      "44/44 [==============================] - 1s 18ms/step - loss: 0.1416 - accuracy: 0.9551 - val_loss: 0.2570 - val_accuracy: 0.9436\n",
      ".Epoch 80/100\n",
      "44/44 [==============================] - 1s 15ms/step - loss: 0.1361 - accuracy: 0.9572 - val_loss: 0.2616 - val_accuracy: 0.9415\n",
      "."
     ]
    }
   ],
   "source": [
    "def get_callbacks(name):\n",
    "    return [\n",
    "        tfdocs.modeling.EpochDots(),\n",
    "        tf.keras.callbacks.EarlyStopping(monitor='val_accuracy', patience=15),\n",
    "        tf.keras.callbacks.TensorBoard(logdir/name),\n",
    "    ]\n",
    "\n",
    "\n",
    "model_name = \"small\"\n",
    "history[model_name] = model_small.fit(train,\n",
    "          validation_data=test,\n",
    "          epochs=N_EPOCHS,\n",
    "          callbacks=get_callbacks(model_name))"
   ]
  },
  {
   "cell_type": "code",
   "execution_count": 33,
   "metadata": {
    "scrolled": true
   },
   "outputs": [
    {
     "name": "stdout",
     "output_type": "stream",
     "text": [
      "11/11 [==============================] - 0s 14ms/step - loss: 0.2616 - accuracy: 0.9415\n",
      "Model binary cross entropy on validation set: 0.26164698600769043\n",
      "Model accuracy on validation set: 0.9414931535720825\n"
     ]
    }
   ],
   "source": [
    "model_perf = model_small.evaluate(test)\n",
    "\n",
    "print(\"Model binary cross entropy on validation set: {}\".format(model_perf[0]))\n",
    "print(\"Model accuracy on validation set: {}\".format(model_perf[1]))"
   ]
  },
  {
   "cell_type": "markdown",
   "metadata": {},
   "source": [
    "### 3.2.2. Medium Model"
   ]
  },
  {
   "cell_type": "code",
   "execution_count": 34,
   "metadata": {},
   "outputs": [],
   "source": [
    "def create_model():\n",
    "    model = tf.keras.Sequential([\n",
    "        tf.keras.layers.DenseFeatures(feature_columns),\n",
    "        tf.keras.layers.Dense(1024, activation=\"relu\"),\n",
    "        tf.keras.layers.Dropout(0.5),\n",
    "        tf.keras.layers.Dense(1024, activation=\"relu\"),\n",
    "        tf.keras.layers.Dropout(0.5),\n",
    "        tf.keras.layers.Dense(512, activation=\"relu\"),\n",
    "        tf.keras.layers.Dropout(0.2),\n",
    "        tf.keras.layers.Dense(1, activation=\"sigmoid\")\n",
    "    ])\n",
    "    model.compile(optimizer=tf.keras.optimizers.Adam(lr_schedule),\n",
    "                  loss=tf.keras.losses.BinaryCrossentropy(from_logits=False),\n",
    "                  metrics=['accuracy'])\n",
    "    return model"
   ]
  },
  {
   "cell_type": "code",
   "execution_count": 35,
   "metadata": {},
   "outputs": [],
   "source": [
    "model_medium = create_model()\n",
    "#model.summary()"
   ]
  },
  {
   "cell_type": "code",
   "execution_count": 36,
   "metadata": {},
   "outputs": [
    {
     "name": "stdout",
     "output_type": "stream",
     "text": [
      "Epoch 1/100\n",
      "44/44 [==============================] - 3s 39ms/step - loss: 0.4574 - accuracy: 0.7783 - val_loss: 0.2641 - val_accuracy: 0.9156\n",
      "\n",
      "Epoch: 0, accuracy:0.8474,  loss:0.3773,  val_accuracy:0.9156,  val_loss:0.2641,  \n",
      ".Epoch 2/100\n",
      "44/44 [==============================] - 1s 30ms/step - loss: 0.2837 - accuracy: 0.9035 - val_loss: 0.2408 - val_accuracy: 0.9293\n",
      ".Epoch 3/100\n",
      "44/44 [==============================] - 1s 32ms/step - loss: 0.2581 - accuracy: 0.9131 - val_loss: 0.2347 - val_accuracy: 0.9325\n",
      ".Epoch 4/100\n",
      "44/44 [==============================] - 2s 35ms/step - loss: 0.2481 - accuracy: 0.9229 - val_loss: 0.2278 - val_accuracy: 0.9336\n",
      ".Epoch 5/100\n",
      "44/44 [==============================] - 1s 28ms/step - loss: 0.2367 - accuracy: 0.9279 - val_loss: 0.2271 - val_accuracy: 0.9332\n",
      ".Epoch 6/100\n",
      "44/44 [==============================] - 3s 72ms/step - loss: 0.2328 - accuracy: 0.9292 - val_loss: 0.2224 - val_accuracy: 0.9350\n",
      ".Epoch 7/100\n",
      "44/44 [==============================] - 1s 27ms/step - loss: 0.2210 - accuracy: 0.9360 - val_loss: 0.2221 - val_accuracy: 0.9379\n",
      ".Epoch 8/100\n",
      "44/44 [==============================] - 1s 27ms/step - loss: 0.2211 - accuracy: 0.9344 - val_loss: 0.2196 - val_accuracy: 0.9393\n",
      ".Epoch 9/100\n",
      "44/44 [==============================] - 1s 28ms/step - loss: 0.2169 - accuracy: 0.9348 - val_loss: 0.2229 - val_accuracy: 0.9368\n",
      ".Epoch 10/100\n",
      "44/44 [==============================] - 1s 27ms/step - loss: 0.2099 - accuracy: 0.9399 - val_loss: 0.2223 - val_accuracy: 0.9365\n",
      ".Epoch 11/100\n",
      "44/44 [==============================] - 1s 29ms/step - loss: 0.2107 - accuracy: 0.9385 - val_loss: 0.2209 - val_accuracy: 0.9383\n",
      ".Epoch 12/100\n",
      "44/44 [==============================] - 1s 29ms/step - loss: 0.2061 - accuracy: 0.9394 - val_loss: 0.2229 - val_accuracy: 0.9386\n",
      ".Epoch 13/100\n",
      "44/44 [==============================] - 1s 28ms/step - loss: 0.2095 - accuracy: 0.9377 - val_loss: 0.2223 - val_accuracy: 0.9354\n",
      ".Epoch 14/100\n",
      "44/44 [==============================] - 1s 28ms/step - loss: 0.2065 - accuracy: 0.9416 - val_loss: 0.2213 - val_accuracy: 0.9397\n",
      ".Epoch 15/100\n",
      "44/44 [==============================] - 1s 28ms/step - loss: 0.2039 - accuracy: 0.9434 - val_loss: 0.2188 - val_accuracy: 0.9419\n",
      ".Epoch 16/100\n",
      "44/44 [==============================] - 1s 28ms/step - loss: 0.2026 - accuracy: 0.9413 - val_loss: 0.2219 - val_accuracy: 0.9379\n",
      ".Epoch 17/100\n",
      "44/44 [==============================] - 1s 28ms/step - loss: 0.2004 - accuracy: 0.9406 - val_loss: 0.2232 - val_accuracy: 0.9401\n",
      ".Epoch 18/100\n",
      "44/44 [==============================] - 1s 27ms/step - loss: 0.1967 - accuracy: 0.9430 - val_loss: 0.2344 - val_accuracy: 0.9329\n",
      ".Epoch 19/100\n",
      "44/44 [==============================] - 1s 26ms/step - loss: 0.2014 - accuracy: 0.9403 - val_loss: 0.2256 - val_accuracy: 0.9375\n",
      ".Epoch 20/100\n",
      "44/44 [==============================] - 1s 27ms/step - loss: 0.1921 - accuracy: 0.9442 - val_loss: 0.2265 - val_accuracy: 0.9390\n",
      ".Epoch 21/100\n",
      "44/44 [==============================] - 1s 27ms/step - loss: 0.1946 - accuracy: 0.9439 - val_loss: 0.2323 - val_accuracy: 0.9350\n",
      ".Epoch 22/100\n",
      "44/44 [==============================] - 1s 26ms/step - loss: 0.1949 - accuracy: 0.9436 - val_loss: 0.2272 - val_accuracy: 0.9375\n",
      ".Epoch 23/100\n",
      "44/44 [==============================] - 1s 25ms/step - loss: 0.1875 - accuracy: 0.9459 - val_loss: 0.2311 - val_accuracy: 0.9365\n",
      ".Epoch 24/100\n",
      "44/44 [==============================] - 1s 27ms/step - loss: 0.1876 - accuracy: 0.9463 - val_loss: 0.2287 - val_accuracy: 0.9386\n",
      ".Epoch 25/100\n",
      "44/44 [==============================] - 1s 27ms/step - loss: 0.1863 - accuracy: 0.9451 - val_loss: 0.2311 - val_accuracy: 0.9411\n",
      ".Epoch 26/100\n",
      "44/44 [==============================] - 1s 25ms/step - loss: 0.1859 - accuracy: 0.9459 - val_loss: 0.2349 - val_accuracy: 0.9383\n",
      ".Epoch 27/100\n",
      "44/44 [==============================] - 1s 28ms/step - loss: 0.1809 - accuracy: 0.9468 - val_loss: 0.2326 - val_accuracy: 0.9401\n",
      ".Epoch 28/100\n",
      "44/44 [==============================] - 1s 25ms/step - loss: 0.1832 - accuracy: 0.9473 - val_loss: 0.2359 - val_accuracy: 0.9368\n",
      ".Epoch 29/100\n",
      "44/44 [==============================] - 1s 26ms/step - loss: 0.1816 - accuracy: 0.9460 - val_loss: 0.2349 - val_accuracy: 0.9383\n",
      ".Epoch 30/100\n",
      "44/44 [==============================] - 1s 24ms/step - loss: 0.1829 - accuracy: 0.9449 - val_loss: 0.2349 - val_accuracy: 0.9397\n",
      "."
     ]
    }
   ],
   "source": [
    "def get_callbacks(name):\n",
    "    return [\n",
    "        tfdocs.modeling.EpochDots(),\n",
    "        tf.keras.callbacks.EarlyStopping(monitor='val_accuracy', patience=15),\n",
    "        tf.keras.callbacks.TensorBoard(logdir/name),\n",
    "    ]\n",
    "\n",
    "\n",
    "model_name = \"medium\"\n",
    "history[model_name] = model_medium.fit(train,\n",
    "          validation_data=test,\n",
    "          epochs=N_EPOCHS,\n",
    "          callbacks=get_callbacks(model_name))"
   ]
  },
  {
   "cell_type": "code",
   "execution_count": 37,
   "metadata": {
    "scrolled": true
   },
   "outputs": [
    {
     "name": "stdout",
     "output_type": "stream",
     "text": [
      "11/11 [==============================] - 0s 12ms/step - loss: 0.2349 - accuracy: 0.9397\n",
      "Model binary cross entropy on validation set: 0.23486201465129852\n",
      "Model accuracy on validation set: 0.9396985173225403\n"
     ]
    }
   ],
   "source": [
    "model_perf = model_medium.evaluate(test)\n",
    "\n",
    "print(\"Model binary cross entropy on validation set: {}\".format(model_perf[0]))\n",
    "print(\"Model accuracy on validation set: {}\".format(model_perf[1]))"
   ]
  },
  {
   "cell_type": "markdown",
   "metadata": {},
   "source": [
    "### 3.2.3. Big Model"
   ]
  },
  {
   "cell_type": "code",
   "execution_count": 38,
   "metadata": {},
   "outputs": [],
   "source": [
    "def create_model():\n",
    "    model = tf.keras.Sequential([\n",
    "        tf.keras.layers.DenseFeatures(feature_columns),\n",
    "        tf.keras.layers.Dense(2048, activation=\"relu\"),\n",
    "        tf.keras.layers.Dropout(0.5),\n",
    "        tf.keras.layers.Dense(2048, activation=\"relu\"),\n",
    "        tf.keras.layers.Dropout(0.5),\n",
    "        tf.keras.layers.Dense(1024, activation=\"relu\"),\n",
    "        tf.keras.layers.Dropout(0.5),\n",
    "        tf.keras.layers.Dense(512, activation=\"relu\"),\n",
    "        tf.keras.layers.Dropout(0.2),\n",
    "        tf.keras.layers.Dense(1, activation=\"sigmoid\")\n",
    "    ])\n",
    "    model.compile(optimizer=tf.keras.optimizers.Adam(lr_schedule),\n",
    "                  loss=tf.keras.losses.BinaryCrossentropy(from_logits=False),\n",
    "                  metrics=['accuracy'])\n",
    "    return model"
   ]
  },
  {
   "cell_type": "code",
   "execution_count": 39,
   "metadata": {},
   "outputs": [],
   "source": [
    "model_big = create_model()\n",
    "#model.summary()"
   ]
  },
  {
   "cell_type": "code",
   "execution_count": 40,
   "metadata": {},
   "outputs": [
    {
     "name": "stdout",
     "output_type": "stream",
     "text": [
      "Epoch 1/100\n",
      "44/44 [==============================] - 5s 95ms/step - loss: 0.4401 - accuracy: 0.7884 - val_loss: 0.2554 - val_accuracy: 0.9131\n",
      "\n",
      "Epoch: 0, accuracy:0.8612,  loss:0.3574,  val_accuracy:0.9131,  val_loss:0.2554,  \n",
      ".Epoch 2/100\n",
      "44/44 [==============================] - 4s 92ms/step - loss: 0.2677 - accuracy: 0.9097 - val_loss: 0.2365 - val_accuracy: 0.9268\n",
      ".Epoch 3/100\n",
      "44/44 [==============================] - 4s 88ms/step - loss: 0.2426 - accuracy: 0.9241 - val_loss: 0.2333 - val_accuracy: 0.9340\n",
      ".Epoch 4/100\n",
      "44/44 [==============================] - 4s 86ms/step - loss: 0.2352 - accuracy: 0.9322 - val_loss: 0.2237 - val_accuracy: 0.9372\n",
      ".Epoch 5/100\n",
      "44/44 [==============================] - 4s 86ms/step - loss: 0.2284 - accuracy: 0.9324 - val_loss: 0.2257 - val_accuracy: 0.9343\n",
      ".Epoch 6/100\n",
      "44/44 [==============================] - 4s 89ms/step - loss: 0.2344 - accuracy: 0.9307 - val_loss: 0.2244 - val_accuracy: 0.9340\n",
      ".Epoch 7/100\n",
      "44/44 [==============================] - 4s 87ms/step - loss: 0.2225 - accuracy: 0.9373 - val_loss: 0.2246 - val_accuracy: 0.9350\n",
      ".Epoch 8/100\n",
      "44/44 [==============================] - 4s 85ms/step - loss: 0.2195 - accuracy: 0.9353 - val_loss: 0.2258 - val_accuracy: 0.9325\n",
      ".Epoch 9/100\n",
      "44/44 [==============================] - 4s 99ms/step - loss: 0.2168 - accuracy: 0.9380 - val_loss: 0.2272 - val_accuracy: 0.9365\n",
      ".Epoch 10/100\n",
      "44/44 [==============================] - 4s 91ms/step - loss: 0.2202 - accuracy: 0.9352 - val_loss: 0.2319 - val_accuracy: 0.9329\n",
      ".Epoch 11/100\n",
      "44/44 [==============================] - 4s 86ms/step - loss: 0.2111 - accuracy: 0.9394 - val_loss: 0.2255 - val_accuracy: 0.9361\n",
      ".Epoch 12/100\n",
      "44/44 [==============================] - 4s 85ms/step - loss: 0.2091 - accuracy: 0.9401 - val_loss: 0.2286 - val_accuracy: 0.9343\n",
      ".Epoch 13/100\n",
      "44/44 [==============================] - 4s 88ms/step - loss: 0.2082 - accuracy: 0.9410 - val_loss: 0.2262 - val_accuracy: 0.9375\n",
      ".Epoch 14/100\n",
      "44/44 [==============================] - 4s 88ms/step - loss: 0.1992 - accuracy: 0.9426 - val_loss: 0.2381 - val_accuracy: 0.9318\n",
      ".Epoch 15/100\n",
      "44/44 [==============================] - 4s 90ms/step - loss: 0.2029 - accuracy: 0.9404 - val_loss: 0.2321 - val_accuracy: 0.9350\n",
      ".Epoch 16/100\n",
      "44/44 [==============================] - 4s 91ms/step - loss: 0.2017 - accuracy: 0.9410 - val_loss: 0.2322 - val_accuracy: 0.9375\n",
      ".Epoch 17/100\n",
      "44/44 [==============================] - 4s 87ms/step - loss: 0.1991 - accuracy: 0.9428 - val_loss: 0.2320 - val_accuracy: 0.9375\n",
      ".Epoch 18/100\n",
      "44/44 [==============================] - 4s 88ms/step - loss: 0.1983 - accuracy: 0.9404 - val_loss: 0.2317 - val_accuracy: 0.9379\n",
      ".Epoch 19/100\n",
      "44/44 [==============================] - 4s 86ms/step - loss: 0.1930 - accuracy: 0.9438 - val_loss: 0.2296 - val_accuracy: 0.9393\n",
      ".Epoch 20/100\n",
      "44/44 [==============================] - 4s 87ms/step - loss: 0.1880 - accuracy: 0.9474 - val_loss: 0.2311 - val_accuracy: 0.9368\n",
      ".Epoch 21/100\n",
      "44/44 [==============================] - 4s 87ms/step - loss: 0.1923 - accuracy: 0.9446 - val_loss: 0.2339 - val_accuracy: 0.9379\n",
      ".Epoch 22/100\n",
      "44/44 [==============================] - 4s 83ms/step - loss: 0.1930 - accuracy: 0.9427 - val_loss: 0.2356 - val_accuracy: 0.9397\n",
      ".Epoch 23/100\n",
      "44/44 [==============================] - 4s 82ms/step - loss: 0.1890 - accuracy: 0.9457 - val_loss: 0.2360 - val_accuracy: 0.9404\n",
      ".Epoch 24/100\n",
      "44/44 [==============================] - 4s 91ms/step - loss: 0.1915 - accuracy: 0.9429 - val_loss: 0.2372 - val_accuracy: 0.9379\n",
      ".Epoch 25/100\n",
      "44/44 [==============================] - 4s 82ms/step - loss: 0.1788 - accuracy: 0.9475 - val_loss: 0.2390 - val_accuracy: 0.9375\n",
      ".Epoch 26/100\n",
      "44/44 [==============================] - 4s 89ms/step - loss: 0.1841 - accuracy: 0.9440 - val_loss: 0.2443 - val_accuracy: 0.9368\n",
      ".Epoch 27/100\n",
      "44/44 [==============================] - 4s 91ms/step - loss: 0.1841 - accuracy: 0.9456 - val_loss: 0.2474 - val_accuracy: 0.9365\n",
      ".Epoch 28/100\n",
      "44/44 [==============================] - 4s 85ms/step - loss: 0.1802 - accuracy: 0.9468 - val_loss: 0.2470 - val_accuracy: 0.9375\n",
      ".Epoch 29/100\n",
      "44/44 [==============================] - 4s 91ms/step - loss: 0.1788 - accuracy: 0.9483 - val_loss: 0.2455 - val_accuracy: 0.9397\n",
      ".Epoch 30/100\n",
      "44/44 [==============================] - 4s 91ms/step - loss: 0.1799 - accuracy: 0.9470 - val_loss: 0.2517 - val_accuracy: 0.9393\n",
      ".Epoch 31/100\n",
      "44/44 [==============================] - 4s 93ms/step - loss: 0.1797 - accuracy: 0.9470 - val_loss: 0.2494 - val_accuracy: 0.9383\n",
      ".Epoch 32/100\n",
      "44/44 [==============================] - 4s 89ms/step - loss: 0.1810 - accuracy: 0.9452 - val_loss: 0.2524 - val_accuracy: 0.9397\n",
      ".Epoch 33/100\n",
      "44/44 [==============================] - 4s 93ms/step - loss: 0.1727 - accuracy: 0.9484 - val_loss: 0.2535 - val_accuracy: 0.9390\n",
      ".Epoch 34/100\n",
      "44/44 [==============================] - 5s 104ms/step - loss: 0.1797 - accuracy: 0.9472 - val_loss: 0.2651 - val_accuracy: 0.9318\n",
      ".Epoch 35/100\n",
      "44/44 [==============================] - 4s 92ms/step - loss: 0.1803 - accuracy: 0.9444 - val_loss: 0.2609 - val_accuracy: 0.9354\n",
      ".Epoch 36/100\n",
      "44/44 [==============================] - 4s 92ms/step - loss: 0.1699 - accuracy: 0.9478 - val_loss: 0.2693 - val_accuracy: 0.9358\n",
      ".Epoch 37/100\n",
      "44/44 [==============================] - 4s 97ms/step - loss: 0.1696 - accuracy: 0.9462 - val_loss: 0.2601 - val_accuracy: 0.9368\n",
      ".Epoch 38/100\n",
      "44/44 [==============================] - 4s 95ms/step - loss: 0.1686 - accuracy: 0.9505 - val_loss: 0.2648 - val_accuracy: 0.9375\n",
      "."
     ]
    }
   ],
   "source": [
    "def get_callbacks(name):\n",
    "    return [\n",
    "        tfdocs.modeling.EpochDots(),\n",
    "        tf.keras.callbacks.EarlyStopping(monitor='val_accuracy', patience=15),\n",
    "        tf.keras.callbacks.TensorBoard(logdir/name),\n",
    "    ]\n",
    "\n",
    "\n",
    "model_name = \"big\"\n",
    "history[model_name] = model_big.fit(train,\n",
    "          validation_data=test,\n",
    "          epochs=N_EPOCHS,\n",
    "          callbacks=get_callbacks(model_name))"
   ]
  },
  {
   "cell_type": "code",
   "execution_count": 41,
   "metadata": {
    "scrolled": true
   },
   "outputs": [
    {
     "name": "stdout",
     "output_type": "stream",
     "text": [
      "11/11 [==============================] - 0s 25ms/step - loss: 0.2648 - accuracy: 0.9375\n",
      "Model binary cross entropy on validation set: 0.26479586958885193\n",
      "Model accuracy on validation set: 0.9375448822975159\n"
     ]
    }
   ],
   "source": [
    "model_perf = model_big.evaluate(test)\n",
    "\n",
    "print(\"Model binary cross entropy on validation set: {}\".format(model_perf[0]))\n",
    "print(\"Model accuracy on validation set: {}\".format(model_perf[1]))"
   ]
  },
  {
   "cell_type": "markdown",
   "metadata": {},
   "source": [
    "### 3.2.4 Batch Normalization"
   ]
  },
  {
   "cell_type": "markdown",
   "metadata": {},
   "source": [
    "batch normalization helps training the weights and biases faster."
   ]
  },
  {
   "cell_type": "code",
   "execution_count": 42,
   "metadata": {},
   "outputs": [],
   "source": [
    "def create_model():\n",
    "    model = tf.keras.Sequential([\n",
    "        tf.keras.layers.DenseFeatures(feature_columns),\n",
    "        tf.keras.layers.BatchNormalization(),\n",
    "        tf.keras.layers.Dropout(0.2),\n",
    "        tfa.layers.WeightNormalization(tf.keras.layers.Dense(2048, activation=\"relu\")),\n",
    "        tf.keras.layers.BatchNormalization(),\n",
    "        tf.keras.layers.Dropout(0.2),\n",
    "        tfa.layers.WeightNormalization(tf.keras.layers.Dense(2048, activation=\"relu\")),\n",
    "        tf.keras.layers.BatchNormalization(),\n",
    "        tf.keras.layers.Dropout(0.2),\n",
    "        tfa.layers.WeightNormalization(tf.keras.layers.Dense(1024, activation=\"relu\")),\n",
    "        tf.keras.layers.BatchNormalization(),\n",
    "        tf.keras.layers.Dropout(0.2),\n",
    "        tfa.layers.WeightNormalization(tf.keras.layers.Dense(512, activation=\"relu\")),\n",
    "        tf.keras.layers.BatchNormalization(),\n",
    "        tf.keras.layers.Dropout(0.2),\n",
    "        tfa.layers.WeightNormalization(tf.keras.layers.Dense(1, activation=\"sigmoid\"))\n",
    "    ])\n",
    "    model.compile(optimizer=tf.keras.optimizers.Adam(lr_schedule),\n",
    "                  loss=tf.keras.losses.BinaryCrossentropy(from_logits=False),\n",
    "                  metrics=['accuracy'])\n",
    "    return model"
   ]
  },
  {
   "cell_type": "code",
   "execution_count": 43,
   "metadata": {},
   "outputs": [],
   "source": [
    "model_batch = create_model()\n",
    "#model.summary()"
   ]
  },
  {
   "cell_type": "code",
   "execution_count": 44,
   "metadata": {},
   "outputs": [
    {
     "name": "stdout",
     "output_type": "stream",
     "text": [
      "Epoch 1/100\n",
      "44/44 [==============================] - 15s 228ms/step - loss: 0.5238 - accuracy: 0.7795 - val_loss: 0.4409 - val_accuracy: 0.8568\n",
      "\n",
      "Epoch: 0, accuracy:0.8251,  loss:0.4711,  val_accuracy:0.8568,  val_loss:0.4409,  \n",
      ".Epoch 2/100\n",
      "44/44 [==============================] - 8s 184ms/step - loss: 0.3848 - accuracy: 0.8557 - val_loss: 0.3046 - val_accuracy: 0.8920\n",
      ".Epoch 3/100\n",
      "44/44 [==============================] - 8s 186ms/step - loss: 0.3661 - accuracy: 0.8631 - val_loss: 0.2805 - val_accuracy: 0.8999\n",
      ".Epoch 4/100\n",
      "44/44 [==============================] - 8s 181ms/step - loss: 0.3400 - accuracy: 0.8699 - val_loss: 0.2828 - val_accuracy: 0.8984\n",
      ".Epoch 5/100\n",
      "44/44 [==============================] - 8s 191ms/step - loss: 0.3356 - accuracy: 0.8701 - val_loss: 0.2794 - val_accuracy: 0.9031\n",
      ".Epoch 6/100\n",
      "44/44 [==============================] - 9s 197ms/step - loss: 0.3287 - accuracy: 0.8716 - val_loss: 0.2757 - val_accuracy: 0.9063\n",
      ".Epoch 7/100\n",
      "44/44 [==============================] - 8s 182ms/step - loss: 0.3263 - accuracy: 0.8715 - val_loss: 0.2593 - val_accuracy: 0.9146\n",
      ".Epoch 8/100\n",
      "44/44 [==============================] - 8s 183ms/step - loss: 0.3289 - accuracy: 0.8713 - val_loss: 0.2555 - val_accuracy: 0.9232\n",
      ".Epoch 9/100\n",
      "44/44 [==============================] - 8s 176ms/step - loss: 0.3195 - accuracy: 0.8746 - val_loss: 0.2586 - val_accuracy: 0.9164\n",
      ".Epoch 10/100\n",
      "44/44 [==============================] - 8s 188ms/step - loss: 0.3166 - accuracy: 0.8784 - val_loss: 0.2591 - val_accuracy: 0.9174\n",
      ".Epoch 11/100\n",
      "44/44 [==============================] - 8s 185ms/step - loss: 0.3207 - accuracy: 0.8753 - val_loss: 0.2605 - val_accuracy: 0.9196\n",
      ".Epoch 12/100\n",
      "44/44 [==============================] - 8s 189ms/step - loss: 0.3207 - accuracy: 0.8795 - val_loss: 0.2503 - val_accuracy: 0.9261\n",
      ".Epoch 13/100\n",
      "44/44 [==============================] - 8s 182ms/step - loss: 0.3148 - accuracy: 0.8733 - val_loss: 0.2516 - val_accuracy: 0.9228\n",
      ".Epoch 14/100\n",
      "44/44 [==============================] - 8s 176ms/step - loss: 0.3065 - accuracy: 0.8827 - val_loss: 0.2545 - val_accuracy: 0.9214\n",
      ".Epoch 15/100\n",
      "44/44 [==============================] - 8s 174ms/step - loss: 0.3129 - accuracy: 0.8768 - val_loss: 0.2470 - val_accuracy: 0.9279\n",
      ".Epoch 16/100\n",
      "44/44 [==============================] - 8s 177ms/step - loss: 0.3106 - accuracy: 0.8770 - val_loss: 0.2549 - val_accuracy: 0.9218\n",
      ".Epoch 17/100\n",
      "44/44 [==============================] - 7s 170ms/step - loss: 0.3145 - accuracy: 0.8768 - val_loss: 0.2536 - val_accuracy: 0.9207\n",
      ".Epoch 18/100\n",
      "44/44 [==============================] - 8s 177ms/step - loss: 0.3121 - accuracy: 0.8749 - val_loss: 0.2550 - val_accuracy: 0.9253\n",
      ".Epoch 19/100\n",
      "44/44 [==============================] - 8s 181ms/step - loss: 0.3102 - accuracy: 0.8756 - val_loss: 0.2490 - val_accuracy: 0.9239\n",
      ".Epoch 20/100\n",
      "44/44 [==============================] - 8s 188ms/step - loss: 0.3077 - accuracy: 0.8777 - val_loss: 0.2527 - val_accuracy: 0.9246\n",
      ".Epoch 21/100\n",
      "44/44 [==============================] - 8s 178ms/step - loss: 0.3107 - accuracy: 0.8789 - val_loss: 0.2560 - val_accuracy: 0.9196\n",
      ".Epoch 22/100\n",
      "44/44 [==============================] - 8s 177ms/step - loss: 0.3130 - accuracy: 0.8766 - val_loss: 0.2589 - val_accuracy: 0.9182\n",
      ".Epoch 23/100\n",
      "44/44 [==============================] - 8s 176ms/step - loss: 0.3071 - accuracy: 0.8790 - val_loss: 0.2548 - val_accuracy: 0.9239\n",
      ".Epoch 24/100\n",
      "44/44 [==============================] - 8s 179ms/step - loss: 0.3081 - accuracy: 0.8797 - val_loss: 0.2573 - val_accuracy: 0.9228\n",
      ".Epoch 25/100\n",
      "44/44 [==============================] - 8s 177ms/step - loss: 0.3060 - accuracy: 0.8773 - val_loss: 0.2599 - val_accuracy: 0.9214\n",
      ".Epoch 26/100\n",
      "44/44 [==============================] - 8s 182ms/step - loss: 0.3088 - accuracy: 0.8797 - val_loss: 0.2563 - val_accuracy: 0.9214\n",
      ".Epoch 27/100\n",
      "44/44 [==============================] - 8s 175ms/step - loss: 0.2975 - accuracy: 0.8823 - val_loss: 0.2539 - val_accuracy: 0.9207\n",
      ".Epoch 28/100\n",
      "44/44 [==============================] - 8s 172ms/step - loss: 0.2977 - accuracy: 0.8831 - val_loss: 0.2510 - val_accuracy: 0.9232\n",
      ".Epoch 29/100\n",
      "44/44 [==============================] - 8s 179ms/step - loss: 0.2986 - accuracy: 0.8816 - val_loss: 0.2522 - val_accuracy: 0.9250\n",
      ".Epoch 30/100\n",
      "44/44 [==============================] - 8s 171ms/step - loss: 0.3060 - accuracy: 0.8802 - val_loss: 0.2563 - val_accuracy: 0.9268\n",
      "."
     ]
    }
   ],
   "source": [
    "def get_callbacks(name):\n",
    "    return [\n",
    "        tfdocs.modeling.EpochDots(),\n",
    "        tf.keras.callbacks.EarlyStopping(monitor='val_accuracy', patience=15),\n",
    "        tf.keras.callbacks.TensorBoard(logdir/name),\n",
    "    ]\n",
    "\n",
    "\n",
    "model_name = \"batch\"\n",
    "history[model_name] = model_batch.fit(train,\n",
    "          validation_data=test,\n",
    "          epochs=N_EPOCHS,\n",
    "          callbacks=get_callbacks(model_name))"
   ]
  },
  {
   "cell_type": "code",
   "execution_count": 45,
   "metadata": {
    "scrolled": true
   },
   "outputs": [
    {
     "name": "stdout",
     "output_type": "stream",
     "text": [
      "11/11 [==============================] - 1s 40ms/step - loss: 0.2563 - accuracy: 0.9268\n",
      "Model binary cross entropy on validation set: 0.25628039240837097\n",
      "Model accuracy on validation set: 0.9267767667770386\n"
     ]
    }
   ],
   "source": [
    "model_perf = model_batch.evaluate(test)\n",
    "\n",
    "print(\"Model binary cross entropy on validation set: {}\".format(model_perf[0]))\n",
    "print(\"Model accuracy on validation set: {}\".format(model_perf[1]))"
   ]
  },
  {
   "cell_type": "markdown",
   "metadata": {},
   "source": [
    "# 4. Learning Process"
   ]
  },
  {
   "cell_type": "markdown",
   "metadata": {},
   "source": [
    "## 4.1. Logs Plottinig"
   ]
  },
  {
   "cell_type": "markdown",
   "metadata": {},
   "source": [
    "Let's check our training process by plotting the evaluation metric / loss vs the number of epochs."
   ]
  },
  {
   "cell_type": "code",
   "execution_count": 46,
   "metadata": {
    "scrolled": true
   },
   "outputs": [
    {
     "data": {
      "image/png": "[encoded data removed]",
      "text/plain": [
       "<Figure size 720x432 with 1 Axes>"
      ]
     },
     "metadata": {
      "needs_background": "light"
     },
     "output_type": "display_data"
    }
   ],
   "source": [
    "plotter = tfdocs.plots.HistoryPlotter(metric = 'loss', smoothing_std=10)\n",
    "plt.figure(figsize=(10, 6))\n",
    "plotter.plot(history)"
   ]
  },
  {
   "cell_type": "code",
   "execution_count": 47,
   "metadata": {
    "scrolled": false
   },
   "outputs": [
    {
     "data": {
      "image/png": "[encoded data removed]",
      "text/plain": [
       "<Figure size 720x432 with 1 Axes>"
      ]
     },
     "metadata": {
      "needs_background": "light"
     },
     "output_type": "display_data"
    }
   ],
   "source": [
    "plotter = tfdocs.plots.HistoryPlotter(metric = 'accuracy', smoothing_std=10)\n",
    "plt.figure(figsize=(10, 6))\n",
    "plotter.plot(history)"
   ]
  },
  {
   "cell_type": "markdown",
   "metadata": {},
   "source": [
    "## 4.2. Tensorboard"
   ]
  },
  {
   "cell_type": "markdown",
   "metadata": {},
   "source": [
    "In order to visualize tensorboard in jupyter notebook, we need to load tensorboard in ipython first:"
   ]
  },
  {
   "cell_type": "code",
   "execution_count": 48,
   "metadata": {},
   "outputs": [],
   "source": [
    "%load_ext tensorboard"
   ]
  },
  {
   "cell_type": "code",
   "execution_count": 49,
   "metadata": {},
   "outputs": [],
   "source": [
    "# I'm using a virtual env, so I need to be setting the `TENSORBOARD_BINARY` environment variable to tensorboard executable.\n",
    "os.environ['TENSORBOARD_BINARY'] = 'pa_venv/bin/tensorboard'"
   ]
  },
  {
   "cell_type": "markdown",
   "metadata": {},
   "source": [
    "Comparing training results across the different trained models:"
   ]
  },
  {
   "cell_type": "code",
   "execution_count": 50,
   "metadata": {
    "scrolled": true
   },
   "outputs": [
    {
     "data": {
      "text/plain": [
       "Reusing TensorBoard on port 6007 (pid 89614), started 1:18:29 ago. (Use '!kill 89614' to kill it.)"
      ]
     },
     "metadata": {},
     "output_type": "display_data"
    },
    {
     "data": {
      "text/html": [
       "\n",
       "      <iframe id=\"tensorboard-frame-64dff8b72e8cb2aa\" width=\"100%\" height=\"800\" frameborder=\"0\">\n",
       "      </iframe>\n",
       "      <script>\n",
       "        (function() {\n",
       "          const frame = document.getElementById(\"tensorboard-frame-64dff8b72e8cb2aa\");\n",
       "          const url = new URL(\"/\", window.location);\n",
       "          const port = 6007;\n",
       "          if (port) {\n",
       "            url.port = port;\n",
       "          }\n",
       "          frame.src = url;\n",
       "        })();\n",
       "      </script>\n",
       "    "
      ],
      "text/plain": [
       "<IPython.core.display.HTML object>"
      ]
     },
     "metadata": {},
     "output_type": "display_data"
    }
   ],
   "source": [
    "%tensorboard --logdir logs_training"
   ]
  },
  {
   "cell_type": "markdown",
   "metadata": {},
   "source": [
    "# 5. Assessing Model Metrics"
   ]
  },
  {
   "cell_type": "markdown",
   "metadata": {},
   "source": [
    "## 5.1 AUC"
   ]
  },
  {
   "cell_type": "code",
   "execution_count": 51,
   "metadata": {},
   "outputs": [],
   "source": [
    "# roc curve and auc score\n",
    "from sklearn import metrics"
   ]
  },
  {
   "cell_type": "code",
   "execution_count": 52,
   "metadata": {},
   "outputs": [],
   "source": [
    "# real labels and predicted scores\n",
    "\n",
    "test = test.unbatch().batch(test_size)\n",
    "for features, target in test.take(1):\n",
    "    y_test = target.numpy()\n",
    "y_test_pred = model_small.predict(test)"
   ]
  },
  {
   "cell_type": "code",
   "execution_count": 53,
   "metadata": {},
   "outputs": [
    {
     "data": {
      "image/png": "[encoded data removed]",
      "text/plain": [
       "<Figure size 432x288 with 1 Axes>"
      ]
     },
     "metadata": {
      "needs_background": "light"
     },
     "output_type": "display_data"
    },
    {
     "name": "stdout",
     "output_type": "stream",
     "text": [
      "AUC-ROC : 0.9118156813361612\n"
     ]
    }
   ],
   "source": [
    "def plot_roc_curve(fpr, tpr):\n",
    "    plt.plot(fpr, tpr, color='orange', label='ROC')\n",
    "    plt.plot([0, 1], [0, 1], color='darkblue', linestyle='--')\n",
    "    plt.xlabel('False Positive Rate')\n",
    "    plt.ylabel('True Positive Rate')\n",
    "    plt.title('Receiver Operating Characteristic (ROC) Curve')\n",
    "    plt.legend()\n",
    "    plt.show()\n",
    "\n",
    "auc = metrics.roc_auc_score(y_test, y_test_pred)\n",
    "fpr, tpr, thresholds = metrics.roc_curve(y_test, y_test_pred, pos_label=1)\n",
    "plot_roc_curve(fpr, tpr)\n",
    "print(\"AUC-ROC :\",auc)"
   ]
  },
  {
   "cell_type": "markdown",
   "metadata": {},
   "source": [
    "## 5.2 Precision - Recall vs Decision Threshold"
   ]
  },
  {
   "cell_type": "code",
   "execution_count": 54,
   "metadata": {},
   "outputs": [
    {
     "data": {
      "image/png": "[encoded data removed]",
      "text/plain": [
       "<Figure size 576x576 with 1 Axes>"
      ]
     },
     "metadata": {
      "needs_background": "light"
     },
     "output_type": "display_data"
    }
   ],
   "source": [
    "def plot_precision_recall_vs_threshold(precisions, recalls, thresholds):\n",
    "    \"\"\"\n",
    "    Modified from:\n",
    "    Hands-On Machine learning with Scikit-Learn\n",
    "    and TensorFlow; p.89\n",
    "    \"\"\"\n",
    "    plt.figure(figsize=(8, 8))\n",
    "    plt.title(\"Precision and Recall Scores as a function of the decision threshold\")\n",
    "    plt.plot(thresholds, precisions[:-1], \"b--\", label=\"Precision\")\n",
    "    plt.plot(thresholds, recalls[:-1], \"g-\", label=\"Recall\")\n",
    "    plt.ylabel(\"Score\")\n",
    "    plt.xlabel(\"Decision Threshold\")\n",
    "    plt.legend(loc='best')\n",
    "    \n",
    "precision, recall, thresholds = metrics.precision_recall_curve(y_test, y_test_pred, pos_label=1)\n",
    "plot_precision_recall_vs_threshold(precision, recall, thresholds)"
   ]
  },
  {
   "cell_type": "markdown",
   "metadata": {},
   "source": [
    "### Threshold Tuning"
   ]
  },
  {
   "cell_type": "markdown",
   "metadata": {},
   "source": [
    "This depends on the context"
   ]
  },
  {
   "cell_type": "code",
   "execution_count": 55,
   "metadata": {},
   "outputs": [],
   "source": [
    "THRESHOLD = 0.5\n",
    "\n",
    "y_test_pred = y_test_pred > THRESHOLD"
   ]
  },
  {
   "cell_type": "markdown",
   "metadata": {},
   "source": [
    "## 5.3. Metrics"
   ]
  },
  {
   "cell_type": "code",
   "execution_count": 56,
   "metadata": {},
   "outputs": [
    {
     "data": {
      "text/plain": [
       "array([[ 616,  120],\n",
       "       [  43, 2007]])"
      ]
     },
     "execution_count": 56,
     "metadata": {},
     "output_type": "execute_result"
    }
   ],
   "source": [
    "metrics.confusion_matrix(y_test, y_test_pred)"
   ]
  },
  {
   "cell_type": "code",
   "execution_count": 57,
   "metadata": {},
   "outputs": [
    {
     "name": "stdout",
     "output_type": "stream",
     "text": [
      "Accuracy: 0.9414931801866475\n",
      "Recall: 0.9790243902439024\n",
      "Precison: 0.9435825105782792\n",
      "F1 Score: 0.9609767775915729\n"
     ]
    }
   ],
   "source": [
    "# Model Accuracy, how often is the classifier correct?\n",
    "print(\"Accuracy:\",metrics.accuracy_score(y_test, y_test_pred))\n",
    "# Recall\n",
    "print(\"Recall:\",metrics.recall_score(y_test, y_test_pred))\n",
    "# Precision\n",
    "print(\"Precison:\",metrics.precision_score(y_test, y_test_pred))\n",
    "# F1score\n",
    "print(\"F1 Score:\",metrics.f1_score(y_test, y_test_pred))"
   ]
  },
  {
   "cell_type": "markdown",
   "metadata": {},
   "source": [
    "# 6. Save TF Model"
   ]
  },
  {
   "cell_type": "code",
   "execution_count": 58,
   "metadata": {},
   "outputs": [],
   "source": [
    "# Had no time to perform hyperparameter tuning so I'll just pick the small model"
   ]
  },
  {
   "cell_type": "code",
   "execution_count": 59,
   "metadata": {},
   "outputs": [],
   "source": [
    "!mkdir -p models\n",
    "model_small.save('models/tf/model_small')"
   ]
  },
  {
   "cell_type": "markdown",
   "metadata": {},
   "source": [
    "# 7. Holdout dataset"
   ]
  },
  {
   "cell_type": "markdown",
   "metadata": {},
   "source": [
    "## 7.1. Loading saved Model"
   ]
  },
  {
   "cell_type": "code",
   "execution_count": 60,
   "metadata": {},
   "outputs": [],
   "source": [
    "#final_model = tf.keras.models.load_model('models/tf/model_small')\n",
    "# seems there's a bug or something in the new tf keras model! can't load saved model\n",
    "# https://github.com/keras-team/keras/issues/11418\n",
    "\n",
    "final_model = model_small"
   ]
  },
  {
   "cell_type": "markdown",
   "metadata": {},
   "source": [
    "## 7.2. Reading and preparing holdout dataset"
   ]
  },
  {
   "cell_type": "code",
   "execution_count": 61,
   "metadata": {},
   "outputs": [],
   "source": [
    "holdout = pd.read_csv(\"data/external_Microsoft_holdoutDataset.csv\")\n",
    "holdout = holdout[data.columns]\n",
    "holdout.to_csv(\"data/external_Microsoft_holdoutDataset_ordered.csv\", index=False)\n",
    "\n",
    "holdout = tf.data.experimental.CsvDataset(\"data/external_Microsoft_holdoutDataset_ordered.csv\", \n",
    "                                          record_defaults=features_types, \n",
    "                                          header=True)\n",
    "\n",
    "holdout = tf.data.Dataset.zip((holdout, ))"
   ]
  },
  {
   "cell_type": "code",
   "execution_count": 62,
   "metadata": {},
   "outputs": [],
   "source": [
    "holdout = holdout.map(_preprocess_line)"
   ]
  },
  {
   "cell_type": "code",
   "execution_count": 63,
   "metadata": {},
   "outputs": [
    {
     "name": "stdout",
     "output_type": "stream",
     "text": [
      "First 5 features: ['Access_Level', 'BD877Training_Completed', 'Department_Code', 'Email_Domain', 'Gender_code']\n",
      "A batch of Access_Level: [2. 4. 1. 4. 1.]\n",
      "A batch of BD877Training_Completed: [0. 0. 1. 0. 0.]\n",
      "A batch of Email_Domain: [b'slideshare.net' b'nsw.gov.au' b'si.edu' b'ehow.com' b'slideshare.net']\n",
      "A batch of peerUsageMetric6: [6. 0. 3. 2. 4.]\n",
      "A batch of targets: [1. 1. 1. 1. 1.]\n"
     ]
    }
   ],
   "source": [
    "for feature_batch, label_batch in holdout.batch(5).take(1):\n",
    "    print('First 5 features:', list(feature_batch.keys())[:5])\n",
    "    print('A batch of Access_Level:', feature_batch[\"Access_Level\"].numpy())\n",
    "    print('A batch of BD877Training_Completed:', feature_batch[\"BD877Training_Completed\"].numpy())\n",
    "    print('A batch of Email_Domain:', feature_batch[\"Email_Domain\"].numpy())\n",
    "    print('A batch of peerUsageMetric6:', feature_batch[\"peerUsageMetric6\"].numpy())\n",
    "    print('A batch of targets:', label_batch.numpy() ) "
   ]
  },
  {
   "cell_type": "markdown",
   "metadata": {},
   "source": [
    "## 7.3 AUC"
   ]
  },
  {
   "cell_type": "code",
   "execution_count": 64,
   "metadata": {},
   "outputs": [],
   "source": [
    "# roc curve and auc score\n",
    "from sklearn import metrics"
   ]
  },
  {
   "cell_type": "code",
   "execution_count": 65,
   "metadata": {},
   "outputs": [
    {
     "data": {
      "text/plain": [
       "1449"
      ]
     },
     "execution_count": 65,
     "metadata": {},
     "output_type": "execute_result"
    }
   ],
   "source": [
    "holdout_size = holdout.reduce(0, lambda x, _: x + 1).numpy()\n",
    "holdout_size"
   ]
  },
  {
   "cell_type": "code",
   "execution_count": 66,
   "metadata": {},
   "outputs": [],
   "source": [
    "# real labels and predicted scores\n",
    "holdout_size = holdout.reduce(0, lambda x, _: x + 1).numpy()\n",
    "\n",
    "holdout = holdout.batch(holdout_size)\n",
    "\n",
    "for features, target in holdout.take(1):\n",
    "    y_holdout = target.numpy()\n",
    "    \n",
    "y_holdout_pred = final_model.predict(holdout)"
   ]
  },
  {
   "cell_type": "code",
   "execution_count": 67,
   "metadata": {},
   "outputs": [
    {
     "data": {
      "image/png": "[encoded data removed]",
      "text/plain": [
       "<Figure size 432x288 with 1 Axes>"
      ]
     },
     "metadata": {
      "needs_background": "light"
     },
     "output_type": "display_data"
    },
    {
     "name": "stdout",
     "output_type": "stream",
     "text": [
      "AUC-ROC : 0.9023538128627998\n"
     ]
    }
   ],
   "source": [
    "def plot_roc_curve(fpr, tpr):\n",
    "    plt.plot(fpr, tpr, color='orange', label='ROC')\n",
    "    plt.plot([0, 1], [0, 1], color='darkblue', linestyle='--')\n",
    "    plt.xlabel('False Positive Rate')\n",
    "    plt.ylabel('True Positive Rate')\n",
    "    plt.title('Receiver Operating Characteristic (ROC) Curve')\n",
    "    plt.legend()\n",
    "    plt.show()\n",
    "\n",
    "auc = metrics.roc_auc_score(y_holdout, y_holdout_pred)\n",
    "fpr, tpr, thresholds = metrics.roc_curve(y_holdout, y_holdout_pred, pos_label=1)\n",
    "plot_roc_curve(fpr, tpr)\n",
    "print(\"AUC-ROC :\",auc)"
   ]
  },
  {
   "cell_type": "code",
   "execution_count": 68,
   "metadata": {},
   "outputs": [],
   "source": [
    "# Using tuned threshold\n",
    "y_holdout_pred = (y_holdout_pred > THRESHOLD).astype(int)"
   ]
  },
  {
   "cell_type": "markdown",
   "metadata": {},
   "source": [
    "## 7.4. Metrics"
   ]
  },
  {
   "cell_type": "code",
   "execution_count": 69,
   "metadata": {},
   "outputs": [
    {
     "data": {
      "text/plain": [
       "array([[ 318,   64],\n",
       "       [  22, 1045]])"
      ]
     },
     "execution_count": 69,
     "metadata": {},
     "output_type": "execute_result"
    }
   ],
   "source": [
    "metrics.confusion_matrix(y_holdout, y_holdout_pred)"
   ]
  },
  {
   "cell_type": "code",
   "execution_count": 74,
   "metadata": {},
   "outputs": [
    {
     "name": "stdout",
     "output_type": "stream",
     "text": [
      "Accuracy: 0.9406487232574189\n",
      "Recall: 0.979381443298969\n",
      "Precison: 0.9422903516681695\n",
      "F1 Score: 0.9604779411764705\n"
     ]
    }
   ],
   "source": [
    "# Model Accuracy, how often is the classifier correct?\n",
    "print(\"Accuracy:\",metrics.accuracy_score(y_holdout, y_holdout_pred))\n",
    "# Recall\n",
    "print(\"Recall:\",metrics.recall_score(y_holdout, y_holdout_pred))\n",
    "# Precision\n",
    "print(\"Precison:\",metrics.precision_score(y_holdout, y_holdout_pred))\n",
    "# F1score\n",
    "print(\"F1 Score:\",metrics.f1_score(y_holdout, y_holdout_pred))"
   ]
  },
  {
   "cell_type": "markdown",
   "metadata": {},
   "source": [
    "## 7.5. Saving Predictions"
   ]
  },
  {
   "cell_type": "code",
   "execution_count": 75,
   "metadata": {},
   "outputs": [],
   "source": [
    "holdout = pd.read_csv(\"data/external_Microsoft_holdoutDataset.csv\")\n",
    "holdout[\"prediction\"] = y_holdout_pred"
   ]
  },
  {
   "cell_type": "code",
   "execution_count": 76,
   "metadata": {},
   "outputs": [
    {
     "data": {
      "text/html": [
       "<div>\n",
       "<style scoped>\n",
       "    .dataframe tbody tr th:only-of-type {\n",
       "        vertical-align: middle;\n",
       "    }\n",
       "\n",
       "    .dataframe tbody tr th {\n",
       "        vertical-align: top;\n",
       "    }\n",
       "\n",
       "    .dataframe thead th {\n",
       "        text-align: right;\n",
       "    }\n",
       "</style>\n",
       "<table border=\"1\" class=\"dataframe\">\n",
       "  <thead>\n",
       "    <tr style=\"text-align: right;\">\n",
       "      <th></th>\n",
       "      <th>EmployeeTargetedOverPastYear</th>\n",
       "      <th>Access Level</th>\n",
       "      <th>behaviorPattern2</th>\n",
       "      <th>peerUsageMetric6</th>\n",
       "      <th>usageMetric2</th>\n",
       "      <th>usageMetric5</th>\n",
       "      <th>Social Media Activity (Scaled)</th>\n",
       "      <th>BD877Training Completed</th>\n",
       "      <th>Department Code</th>\n",
       "      <th>Email Domain</th>\n",
       "      <th>fraudTraining Completed</th>\n",
       "      <th>Gender (code)</th>\n",
       "      <th>prediction</th>\n",
       "    </tr>\n",
       "  </thead>\n",
       "  <tbody>\n",
       "    <tr>\n",
       "      <th>0</th>\n",
       "      <td>1.0</td>\n",
       "      <td>2</td>\n",
       "      <td>1</td>\n",
       "      <td>6</td>\n",
       "      <td>1</td>\n",
       "      <td>5</td>\n",
       "      <td>0.0</td>\n",
       "      <td>0.0</td>\n",
       "      <td>10000</td>\n",
       "      <td>slideshare.net</td>\n",
       "      <td>0</td>\n",
       "      <td>0</td>\n",
       "      <td>1</td>\n",
       "    </tr>\n",
       "    <tr>\n",
       "      <th>1</th>\n",
       "      <td>1.0</td>\n",
       "      <td>4</td>\n",
       "      <td>2</td>\n",
       "      <td>0</td>\n",
       "      <td>2</td>\n",
       "      <td>6</td>\n",
       "      <td>3.0</td>\n",
       "      <td>0.0</td>\n",
       "      <td>54997</td>\n",
       "      <td>nsw.gov.au</td>\n",
       "      <td>0</td>\n",
       "      <td>1</td>\n",
       "      <td>1</td>\n",
       "    </tr>\n",
       "    <tr>\n",
       "      <th>2</th>\n",
       "      <td>1.0</td>\n",
       "      <td>1</td>\n",
       "      <td>1</td>\n",
       "      <td>3</td>\n",
       "      <td>2</td>\n",
       "      <td>3</td>\n",
       "      <td>0.0</td>\n",
       "      <td>1.0</td>\n",
       "      <td>39998</td>\n",
       "      <td>si.edu</td>\n",
       "      <td>0</td>\n",
       "      <td>1</td>\n",
       "      <td>1</td>\n",
       "    </tr>\n",
       "    <tr>\n",
       "      <th>3</th>\n",
       "      <td>1.0</td>\n",
       "      <td>4</td>\n",
       "      <td>1</td>\n",
       "      <td>2</td>\n",
       "      <td>1</td>\n",
       "      <td>0</td>\n",
       "      <td>0.0</td>\n",
       "      <td>0.0</td>\n",
       "      <td>69996</td>\n",
       "      <td>ehow.com</td>\n",
       "      <td>1</td>\n",
       "      <td>1</td>\n",
       "      <td>1</td>\n",
       "    </tr>\n",
       "    <tr>\n",
       "      <th>4</th>\n",
       "      <td>1.0</td>\n",
       "      <td>1</td>\n",
       "      <td>0</td>\n",
       "      <td>4</td>\n",
       "      <td>0</td>\n",
       "      <td>0</td>\n",
       "      <td>0.0</td>\n",
       "      <td>0.0</td>\n",
       "      <td>10000</td>\n",
       "      <td>slideshare.net</td>\n",
       "      <td>0</td>\n",
       "      <td>1</td>\n",
       "      <td>1</td>\n",
       "    </tr>\n",
       "  </tbody>\n",
       "</table>\n",
       "</div>"
      ],
      "text/plain": [
       "   EmployeeTargetedOverPastYear  Access Level  behaviorPattern2  \\\n",
       "0                           1.0             2                 1   \n",
       "1                           1.0             4                 2   \n",
       "2                           1.0             1                 1   \n",
       "3                           1.0             4                 1   \n",
       "4                           1.0             1                 0   \n",
       "\n",
       "   peerUsageMetric6  usageMetric2  usageMetric5  \\\n",
       "0                 6             1             5   \n",
       "1                 0             2             6   \n",
       "2                 3             2             3   \n",
       "3                 2             1             0   \n",
       "4                 4             0             0   \n",
       "\n",
       "   Social Media Activity (Scaled)  BD877Training Completed  Department Code  \\\n",
       "0                             0.0                      0.0            10000   \n",
       "1                             3.0                      0.0            54997   \n",
       "2                             0.0                      1.0            39998   \n",
       "3                             0.0                      0.0            69996   \n",
       "4                             0.0                      0.0            10000   \n",
       "\n",
       "     Email Domain  fraudTraining Completed  Gender (code)  prediction  \n",
       "0  slideshare.net                        0              0           1  \n",
       "1      nsw.gov.au                        0              1           1  \n",
       "2          si.edu                        0              1           1  \n",
       "3        ehow.com                        1              1           1  \n",
       "4  slideshare.net                        0              1           1  "
      ]
     },
     "execution_count": 76,
     "metadata": {},
     "output_type": "execute_result"
    }
   ],
   "source": [
    "holdout.head()"
   ]
  },
  {
   "cell_type": "code",
   "execution_count": 77,
   "metadata": {},
   "outputs": [],
   "source": [
    "!mkdir -p results\n",
    "holdout.to_csv(\"results/holdout_predictions_nn.csv\", index=False)"
   ]
  }
 ],
 "metadata": {
  "kernelspec": {
   "display_name": "pa_venv",
   "language": "python",
   "name": "pa_venv"
  },
  "language_info": {
   "codemirror_mode": {
    "name": "ipython",
    "version": 3
   },
   "file_extension": ".py",
   "mimetype": "text/x-python",
   "name": "python",
   "nbconvert_exporter": "python",
   "pygments_lexer": "ipython3",
   "version": "3.8.6"
  }
 },
 "nbformat": 4,
 "nbformat_minor": 4
}
