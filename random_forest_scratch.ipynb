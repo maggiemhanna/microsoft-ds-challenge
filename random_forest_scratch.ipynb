{
 "cells": [
  {
   "cell_type": "code",
   "execution_count": 1,
   "metadata": {},
   "outputs": [],
   "source": [
    "import pandas as pd\n",
    "import numpy as np\n",
    "import seaborn as sns\n",
    "import matplotlib.pyplot as plt\n",
    "\n",
    "from sklearn import metrics\n",
    "from sklearn.model_selection import GridSearchCV, RandomizedSearchCV\n",
    "from sklearn.impute import SimpleImputer\n",
    "from sklearn.preprocessing import StandardScaler, MinMaxScaler\n",
    "from sklearn.preprocessing import OneHotEncoder\n",
    "from sklearn.ensemble import RandomForestClassifier\n",
    "\n",
    "from sklego.metrics import p_percent_score\n",
    "\n",
    "import warnings\n",
    "warnings.filterwarnings(\"ignore\")\n",
    "\n",
    "from fairlearn.widget import FairlearnDashboard"
   ]
  },
  {
   "cell_type": "markdown",
   "metadata": {},
   "source": [
    "# ML Datasets\n",
    "\n",
    "We'll load our ml data splits (data has already been split into train and test)"
   ]
  },
  {
   "cell_type": "code",
   "execution_count": 2,
   "metadata": {},
   "outputs": [
    {
     "data": {
      "text/html": [
       "<div>\n",
       "<style scoped>\n",
       "    .dataframe tbody tr th:only-of-type {\n",
       "        vertical-align: middle;\n",
       "    }\n",
       "\n",
       "    .dataframe tbody tr th {\n",
       "        vertical-align: top;\n",
       "    }\n",
       "\n",
       "    .dataframe thead th {\n",
       "        text-align: right;\n",
       "    }\n",
       "</style>\n",
       "<table border=\"1\" class=\"dataframe\">\n",
       "  <thead>\n",
       "    <tr style=\"text-align: right;\">\n",
       "      <th></th>\n",
       "      <th>Access Level</th>\n",
       "      <th>BD877Training Completed</th>\n",
       "      <th>Department Code</th>\n",
       "      <th>Email Domain</th>\n",
       "      <th>EmployeeTargetedOverPastYear</th>\n",
       "      <th>Gender (code)</th>\n",
       "      <th>Social Media Activity (Scaled)</th>\n",
       "      <th>behaviorPattern2</th>\n",
       "      <th>fraudTraining Completed</th>\n",
       "      <th>peerUsageMetric6</th>\n",
       "      <th>usageMetric2</th>\n",
       "      <th>usageMetric5</th>\n",
       "    </tr>\n",
       "  </thead>\n",
       "  <tbody>\n",
       "    <tr>\n",
       "      <th>0</th>\n",
       "      <td>2</td>\n",
       "      <td>0.0</td>\n",
       "      <td>24999</td>\n",
       "      <td>ox.ac.uk</td>\n",
       "      <td>0.0</td>\n",
       "      <td>0</td>\n",
       "      <td>0.0</td>\n",
       "      <td>0</td>\n",
       "      <td>1</td>\n",
       "      <td>5</td>\n",
       "      <td>0</td>\n",
       "      <td>7</td>\n",
       "    </tr>\n",
       "    <tr>\n",
       "      <th>1</th>\n",
       "      <td>2</td>\n",
       "      <td>0.0</td>\n",
       "      <td>10000</td>\n",
       "      <td>ox.ac.uk</td>\n",
       "      <td>1.0</td>\n",
       "      <td>1</td>\n",
       "      <td>NaN</td>\n",
       "      <td>0</td>\n",
       "      <td>0</td>\n",
       "      <td>4</td>\n",
       "      <td>0</td>\n",
       "      <td>1</td>\n",
       "    </tr>\n",
       "    <tr>\n",
       "      <th>2</th>\n",
       "      <td>0</td>\n",
       "      <td>0.0</td>\n",
       "      <td>10000</td>\n",
       "      <td>si.edu</td>\n",
       "      <td>1.0</td>\n",
       "      <td>1</td>\n",
       "      <td>0.0</td>\n",
       "      <td>0</td>\n",
       "      <td>1</td>\n",
       "      <td>0</td>\n",
       "      <td>0</td>\n",
       "      <td>3</td>\n",
       "    </tr>\n",
       "    <tr>\n",
       "      <th>3</th>\n",
       "      <td>2</td>\n",
       "      <td>1.0</td>\n",
       "      <td>54997</td>\n",
       "      <td>si.edu</td>\n",
       "      <td>0.0</td>\n",
       "      <td>0</td>\n",
       "      <td>1.0</td>\n",
       "      <td>1</td>\n",
       "      <td>0</td>\n",
       "      <td>5</td>\n",
       "      <td>1</td>\n",
       "      <td>7</td>\n",
       "    </tr>\n",
       "    <tr>\n",
       "      <th>4</th>\n",
       "      <td>1</td>\n",
       "      <td>1.0</td>\n",
       "      <td>10000</td>\n",
       "      <td>si.edu</td>\n",
       "      <td>1.0</td>\n",
       "      <td>1</td>\n",
       "      <td>0.0</td>\n",
       "      <td>2</td>\n",
       "      <td>0</td>\n",
       "      <td>5</td>\n",
       "      <td>0</td>\n",
       "      <td>7</td>\n",
       "    </tr>\n",
       "  </tbody>\n",
       "</table>\n",
       "</div>"
      ],
      "text/plain": [
       "   Access Level  BD877Training Completed  Department Code Email Domain  \\\n",
       "0             2                      0.0            24999     ox.ac.uk   \n",
       "1             2                      0.0            10000     ox.ac.uk   \n",
       "2             0                      0.0            10000       si.edu   \n",
       "3             2                      1.0            54997       si.edu   \n",
       "4             1                      1.0            10000       si.edu   \n",
       "\n",
       "   EmployeeTargetedOverPastYear  Gender (code)  \\\n",
       "0                           0.0              0   \n",
       "1                           1.0              1   \n",
       "2                           1.0              1   \n",
       "3                           0.0              0   \n",
       "4                           1.0              1   \n",
       "\n",
       "   Social Media Activity (Scaled)  behaviorPattern2  fraudTraining Completed  \\\n",
       "0                             0.0                 0                        1   \n",
       "1                             NaN                 0                        0   \n",
       "2                             0.0                 0                        1   \n",
       "3                             1.0                 1                        0   \n",
       "4                             0.0                 2                        0   \n",
       "\n",
       "   peerUsageMetric6  usageMetric2  usageMetric5  \n",
       "0                 5             0             7  \n",
       "1                 4             0             1  \n",
       "2                 0             0             3  \n",
       "3                 5             1             7  \n",
       "4                 5             0             7  "
      ]
     },
     "execution_count": 2,
     "metadata": {},
     "output_type": "execute_result"
    }
   ],
   "source": [
    "df = pd.read_csv(\"data/external_Microsoft_issueDataset.csv\")\n",
    "df.head()"
   ]
  },
  {
   "cell_type": "code",
   "execution_count": 3,
   "metadata": {},
   "outputs": [],
   "source": [
    "# target column\n",
    "target_col = \"EmployeeTargetedOverPastYear\"\n",
    "\n",
    "# categorical ordinal features\n",
    "cat_ord_cols = [\"Access Level\", \n",
    "                \"behaviorPattern2\", \n",
    "                \"peerUsageMetric6\",\n",
    "                \"usageMetric2\", \n",
    "                \"usageMetric5\",\n",
    "                \"Social Media Activity (Scaled)\"]\n",
    "\n",
    "# categorical nominal features\n",
    "cat_nom_cols = ['BD877Training Completed',\n",
    "                'Department Code', \n",
    "                'Email Domain',\n",
    "                'fraudTraining Completed',\n",
    "                'Gender (code)']\n",
    "\n",
    "# no numerical features"
   ]
  },
  {
   "cell_type": "code",
   "execution_count": 4,
   "metadata": {},
   "outputs": [],
   "source": [
    "train = pd.read_csv(\"data/train.csv\")\n",
    "test = pd.read_csv(\"data/test.csv\")\n",
    "\n",
    "# X: explanatory variables / y: variable to predict\n",
    "X_train = train.drop(target_col, axis=1)\n",
    "y_train = train[[target_col]]\n",
    "\n",
    "X_test = test.drop(target_col, axis=1)\n",
    "y_test = test[[target_col]]"
   ]
  },
  {
   "cell_type": "markdown",
   "metadata": {},
   "source": [
    "# Feature Engineering"
   ]
  },
  {
   "cell_type": "markdown",
   "metadata": {},
   "source": [
    "Apply feature engineering techniques after data splitting to avoid data leakage.\n",
    "\n",
    "Let's just rename our preprocessed dataset to avoid confusion with the raw dataset."
   ]
  },
  {
   "cell_type": "code",
   "execution_count": 5,
   "metadata": {},
   "outputs": [],
   "source": [
    "X_train_p = X_train.copy()\n",
    "X_test_p = X_test.copy()"
   ]
  },
  {
   "cell_type": "markdown",
   "metadata": {},
   "source": [
    "## Imputing NA values"
   ]
  },
  {
   "cell_type": "markdown",
   "metadata": {},
   "source": [
    "Let's first impute NA values in some of the columns where we have missing data.\n",
    "\n",
    "Since the columns containing missing values are categorical, we'll impute them with the most frequent value."
   ]
  },
  {
   "cell_type": "code",
   "execution_count": 6,
   "metadata": {},
   "outputs": [],
   "source": [
    "imp = SimpleImputer(missing_values=np.nan, strategy='most_frequent')\n",
    "missing_cols = cat_ord_cols + cat_nom_cols\n",
    "\n",
    "X_train_p[missing_cols] = imp.fit_transform(X_train_p[missing_cols])\n",
    "X_test_p[missing_cols] = imp.transform(X_test_p[missing_cols])"
   ]
  },
  {
   "cell_type": "markdown",
   "metadata": {},
   "source": [
    "## Z-score scaling of the numerical columns "
   ]
  },
  {
   "cell_type": "code",
   "execution_count": 7,
   "metadata": {},
   "outputs": [],
   "source": [
    "#ss = StandardScaler()\n",
    "#columns to scale with the standard scaler\n",
    "#ss_cols = num_cols\n",
    "\n",
    "#X_train_p[ss_cols] = ss.fit_transform(X_train_p[ss_cols])\n",
    "#X_test_p[ss_cols] = ss.transform(X_test_p[ss_cols])"
   ]
  },
  {
   "cell_type": "markdown",
   "metadata": {},
   "source": [
    "## Min-Max scaling of the ordinal categorical columns"
   ]
  },
  {
   "cell_type": "code",
   "execution_count": 8,
   "metadata": {},
   "outputs": [],
   "source": [
    "mmc = MinMaxScaler()\n",
    "#columns to scale with the min max scaler\n",
    "mmc_cols = cat_ord_cols\n",
    "\n",
    "X_train_p[mmc_cols] = mmc.fit_transform(X_train_p[mmc_cols])\n",
    "X_test_p[mmc_cols] = mmc.transform(X_test_p[mmc_cols])"
   ]
  },
  {
   "cell_type": "markdown",
   "metadata": {},
   "source": [
    "## One-hot encoding of the nominal categorical columns"
   ]
  },
  {
   "cell_type": "code",
   "execution_count": 9,
   "metadata": {},
   "outputs": [],
   "source": [
    "# if binary categorical, no need for 2 columns\n",
    "ohe = OneHotEncoder(drop = \"if_binary\", sparse=False)\n",
    "\n",
    "# Define categorical to be one hot encoded\n",
    "ohe_cols = cat_nom_cols\n",
    "\n",
    "# Encode categorical columns, and store results in a new dataframe\n",
    "X_train_encoded = pd.DataFrame(ohe.fit_transform(X_train_p[ohe_cols]), index=X_train_p.index)\n",
    "X_test_encoded = pd.DataFrame(ohe.transform(X_test_p[ohe_cols]), index=X_test_p.index)\n",
    "\n",
    "# Retrieve encoded columns names\n",
    "X_train_encoded.columns = ohe.get_feature_names(ohe_cols)\n",
    "X_test_encoded.columns = ohe.get_feature_names(ohe_cols)\n",
    "\n",
    "# Drop initial columns \n",
    "X_train_p.drop(ohe_cols ,axis=1, inplace=True)\n",
    "X_test_p.drop(ohe_cols ,axis=1, inplace=True)\n",
    "\n",
    "# Add encoded columns to initial dataset\n",
    "X_train_p = pd.concat([X_train_p, X_train_encoded], axis=1)\n",
    "X_test_p = pd.concat([X_test_p, X_test_encoded ], axis=1)"
   ]
  },
  {
   "cell_type": "markdown",
   "metadata": {},
   "source": [
    "# Random Forest Modeling and Hyperparameter Tuning"
   ]
  },
  {
   "cell_type": "markdown",
   "metadata": {},
   "source": [
    "Random forest uses bagging (picking a sample of observations rather than all of them) and random subspace method (picking a sample of features rather than all of them, in other words - attribute bagging) to grow a tree."
   ]
  },
  {
   "cell_type": "markdown",
   "metadata": {},
   "source": [
    "#### Tuning the number of estimators (trees)\n",
    "\n",
    "Increasing the number of trees in the forest decreases the variance of the overall model, and doesn't contribute to overfitting. More trees also mean more computational cost and after a certain number of trees, the improvement is negligible. \n",
    " \n",
    "So let's first monitor generalization performance while sequentially adding new trees to the model, then we'll pick the number of trees when performance plateaus. "
   ]
  },
  {
   "cell_type": "code",
   "execution_count": 10,
   "metadata": {},
   "outputs": [
    {
     "name": "stdout",
     "output_type": "stream",
     "text": [
      "Fitting 3 folds for each of 11 candidates, totalling 33 fits\n"
     ]
    }
   ],
   "source": [
    "# Create the random grid\n",
    "param_grid = { # Number of trees in random forest\n",
    "               'n_estimators': [5, 10, 50, 100, 150] + [int(x) for x in np.linspace(start = 200, stop = 1000, num = 5)] + [2000]\n",
    "                }\n",
    "\n",
    "rf = RandomForestClassifier(random_state=0)\n",
    "rf_search = GridSearchCV(estimator = rf, param_grid = param_grid, cv = 3, verbose=1, scoring=\"accuracy\")\n",
    "rf_search = rf_search.fit(X_train_p, y_train)"
   ]
  },
  {
   "cell_type": "code",
   "execution_count": 11,
   "metadata": {},
   "outputs": [
    {
     "data": {
      "text/plain": [
       "Text(0.5, 1.0, 'CV Accuracy vs Number of Trees')"
      ]
     },
     "execution_count": 11,
     "metadata": {},
     "output_type": "execute_result"
    },
    {
     "data": {
      "image/png": "[encoded data removed]",
      "text/plain": [
       "<Figure size 432x288 with 1 Axes>"
      ]
     },
     "metadata": {
      "needs_background": "light"
     },
     "output_type": "display_data"
    }
   ],
   "source": [
    "plt.plot([i['n_estimators'] for i in rf_search.cv_results_['params']], \n",
    "         rf_search.cv_results_['mean_test_score'])\n",
    "\n",
    "plt.xlabel(\"Number of Trees\")\n",
    "plt.ylabel(\"CV Accuracy\")\n",
    "plt.title(\"CV Accuracy vs Number of Trees\")"
   ]
  },
  {
   "cell_type": "code",
   "execution_count": 12,
   "metadata": {},
   "outputs": [
    {
     "name": "stdout",
     "output_type": "stream",
     "text": [
      "Fitting 3 folds for each of 5 candidates, totalling 15 fits\n"
     ]
    }
   ],
   "source": [
    "# Create the random grid\n",
    "random_grid = { # split impurity metric\n",
    "                'criterion': ['gini', 'entropy'],\n",
    "                # Number of features to consider at every split\n",
    "               'max_features': ['auto', 'sqrt', 'log2'],\n",
    "                # Maximum number of levels in tree\n",
    "               'max_depth': [int(x) for x in np.linspace(10, 110, num = 11)] + [None],\n",
    "                # Minimum number of samples required to split a node\n",
    "               'min_samples_split': [2, 5] + [int(x) for x in np.linspace(10, 110, num = 11)] + [None],\n",
    "                # Minimum number of samples required at each leaf node\n",
    "               'min_samples_leaf': [1, 5] + [int(x) for x in np.linspace(10, 110, num = 11)] + [None],\n",
    "                # Method of selecting samples for training each tree\n",
    "               'bootstrap': [True, False]}\n",
    "\n",
    "rf = RandomForestClassifier(random_state=0, n_estimators=250)\n",
    "rf_search = RandomizedSearchCV(estimator = rf, param_distributions = random_grid, n_iter = 5, cv = 3, verbose=1, random_state=0, scoring=\"accuracy\")\n",
    "rf_search = rf_search.fit(X_train_p, y_train)"
   ]
  },
  {
   "cell_type": "code",
   "execution_count": 13,
   "metadata": {},
   "outputs": [
    {
     "data": {
      "text/plain": [
       "array([1., 1., 1., 1., 1., 1., 1., 1., 1., 1.])"
      ]
     },
     "execution_count": 13,
     "metadata": {},
     "output_type": "execute_result"
    }
   ],
   "source": [
    "# predicting over training & testing datasets\n",
    "y_train_pred = rf_search.predict(X_train_p)\n",
    "y_test_pred = rf_search.predict(X_test_p)\n",
    "\n",
    "#Printing the first 10 predictions:\n",
    "y_test_pred[:10]"
   ]
  },
  {
   "cell_type": "markdown",
   "metadata": {},
   "source": [
    "## Evaluating Random Forest Model"
   ]
  },
  {
   "cell_type": "markdown",
   "metadata": {},
   "source": [
    "### Evaluation over training set"
   ]
  },
  {
   "cell_type": "code",
   "execution_count": 14,
   "metadata": {},
   "outputs": [
    {
     "data": {
      "text/plain": [
       "array([[2401,  620],\n",
       "       [ 253, 7940]])"
      ]
     },
     "execution_count": 14,
     "metadata": {},
     "output_type": "execute_result"
    }
   ],
   "source": [
    "metrics.confusion_matrix(y_train, y_train_pred)"
   ]
  },
  {
   "cell_type": "code",
   "execution_count": 15,
   "metadata": {},
   "outputs": [
    {
     "data": {
      "text/plain": [
       "<sklearn.metrics._plot.confusion_matrix.ConfusionMatrixDisplay at 0x138d5d760>"
      ]
     },
     "execution_count": 15,
     "metadata": {},
     "output_type": "execute_result"
    },
    {
     "data": {
      "image/png": "[encoded data removed]",
      "text/plain": [
       "<Figure size 432x288 with 2 Axes>"
      ]
     },
     "metadata": {
      "needs_background": "light"
     },
     "output_type": "display_data"
    }
   ],
   "source": [
    "metrics.plot_confusion_matrix(rf_search, X_train_p, y_train)"
   ]
  },
  {
   "cell_type": "code",
   "execution_count": 16,
   "metadata": {},
   "outputs": [
    {
     "name": "stdout",
     "output_type": "stream",
     "text": [
      "Accuracy: 0.9221508828250401\n",
      "Recall: 0.9691199804711339\n",
      "Precison: 0.927570093457944\n",
      "F1 Score: 0.947889930161762\n"
     ]
    }
   ],
   "source": [
    "# Model Accuracy, how often is the classifier correct?\n",
    "print(\"Accuracy:\",metrics.accuracy_score(y_train, y_train_pred))\n",
    "# Recall\n",
    "print(\"Recall:\",metrics.recall_score(y_train, y_train_pred))\n",
    "# Precision\n",
    "print(\"Precison:\",metrics.precision_score(y_train, y_train_pred))\n",
    "# F1score\n",
    "print(\"F1 Score:\",metrics.f1_score(y_train, y_train_pred))"
   ]
  },
  {
   "cell_type": "markdown",
   "metadata": {},
   "source": [
    "Let's estimate, how accurately the classifier or model can predict on new data.\n",
    "\n",
    "Accuracy can be computed by comparing actual test set values and predicted values."
   ]
  },
  {
   "cell_type": "markdown",
   "metadata": {},
   "source": [
    "### Evaluation over testing set"
   ]
  },
  {
   "cell_type": "code",
   "execution_count": 17,
   "metadata": {
    "scrolled": true
   },
   "outputs": [
    {
     "data": {
      "text/plain": [
       "array([[ 555,  181],\n",
       "       [  54, 1996]])"
      ]
     },
     "execution_count": 17,
     "metadata": {},
     "output_type": "execute_result"
    }
   ],
   "source": [
    "metrics.confusion_matrix(y_test, y_test_pred)"
   ]
  },
  {
   "cell_type": "code",
   "execution_count": 18,
   "metadata": {},
   "outputs": [
    {
     "data": {
      "text/plain": [
       "<sklearn.metrics._plot.confusion_matrix.ConfusionMatrixDisplay at 0x138d9fc70>"
      ]
     },
     "execution_count": 18,
     "metadata": {},
     "output_type": "execute_result"
    },
    {
     "data": {
      "image/png": "[encoded data removed]",
      "text/plain": [
       "<Figure size 432x288 with 2 Axes>"
      ]
     },
     "metadata": {
      "needs_background": "light"
     },
     "output_type": "display_data"
    }
   ],
   "source": [
    "metrics.plot_confusion_matrix(rf_search, X_test_p, y_test)"
   ]
  },
  {
   "cell_type": "code",
   "execution_count": 19,
   "metadata": {},
   "outputs": [
    {
     "name": "stdout",
     "output_type": "stream",
     "text": [
      "Accuracy: 0.9156496769562096\n",
      "Recall: 0.9736585365853658\n",
      "Precison: 0.9168580615525953\n",
      "F1 Score: 0.944405015377336\n"
     ]
    }
   ],
   "source": [
    "# Model Accuracy, how often is the classifier correct?\n",
    "print(\"Accuracy:\",metrics.accuracy_score(y_test, y_test_pred))\n",
    "# Recall\n",
    "print(\"Recall:\",metrics.recall_score(y_test, y_test_pred))\n",
    "# Precision\n",
    "print(\"Precison:\",metrics.precision_score(y_test, y_test_pred))\n",
    "# F1score\n",
    "print(\"F1 Score:\",metrics.f1_score(y_test, y_test_pred))"
   ]
  }
 ],
 "metadata": {
  "kernelspec": {
   "display_name": "pa_venv",
   "language": "python",
   "name": "pa_venv"
  },
  "language_info": {
   "codemirror_mode": {
    "name": "ipython",
    "version": 3
   },
   "file_extension": ".py",
   "mimetype": "text/x-python",
   "name": "python",
   "nbconvert_exporter": "python",
   "pygments_lexer": "ipython3",
   "version": "3.8.6"
  }
 },
 "nbformat": 4,
 "nbformat_minor": 4
}
